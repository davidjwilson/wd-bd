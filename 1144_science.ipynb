{
 "cells": [
  {
   "cell_type": "code",
   "execution_count": 13,
   "metadata": {},
   "outputs": [],
   "source": [
    "import numpy as np\n",
    "import matplotlib.pyplot as plt\n",
    "import astropy.io.fits as fits\n",
    "import os\n",
    "import glob\n",
    "from scipy.interpolate import interp1d\n",
    "from scipy.io.idl import readsav\n",
    "from astropy.table import Table\n",
    "from astropy.io import ascii\n",
    "import astropy.units as u\n",
    "from scipy.optimize import leastsq\n",
    "import astropy.constants as const\n",
    "from astropy.convolution import convolve, Box1DKernel\n",
    "from astropy.modeling import models, fitting\n",
    "\n",
    "\n",
    "#matplotlib set up\n",
    "%matplotlib inline\n",
    "from matplotlib import rcParams\n",
    "rcParams[\"figure.figsize\"] = (14, 5)\n",
    "rcParams[\"font.size\"] = 20"
   ]
  },
  {
   "cell_type": "code",
   "execution_count": 17,
   "metadata": {},
   "outputs": [],
   "source": [
    "sdss = Table.read('sdss_m2_period.txt', format='ascii')"
   ]
  },
  {
   "cell_type": "code",
   "execution_count": 18,
   "metadata": {},
   "outputs": [
    {
     "data": {
      "text/html": [
       "<i>Table length=75</i>\n",
       "<table id=\"table140290841937400\" class=\"table-striped table-bordered table-condensed\">\n",
       "<thead><tr><th>ID</th><th>IAU NAME</th><th>M2</th><th>porb</th><th>M2e</th><th>porbe</th></tr></thead>\n",
       "<thead><tr><th>int64</th><th>str24</th><th>float64</th><th>float64</th><th>float64</th><th>float64</th></tr></thead>\n",
       "<tr><td>64</td><td>SDSSJ005245.11-005337.2</td><td>0.319</td><td>2.735</td><td>0.09</td><td>0.002</td></tr>\n",
       "<tr><td>81</td><td>SDSSJ011009.09+132616.1</td><td>0.319</td><td>7.984495</td><td>0.09</td><td>3e-06</td></tr>\n",
       "<tr><td>117</td><td>SDSSJ013851.54-001621.6</td><td>0.255</td><td>1.746529272</td><td>0.124</td><td>1e-09</td></tr>\n",
       "<tr><td>127</td><td>SDSSJ015225.38-005808.5</td><td>0.196</td><td>2.1519468</td><td>0.085</td><td>9.9e-06</td></tr>\n",
       "<tr><td>170</td><td>SDSSJ022503.02+005456.2</td><td>0.294</td><td>21.86</td><td>0.09</td><td>0.16</td></tr>\n",
       "<tr><td>182</td><td>SDSSJ023804.39-000545.7</td><td>0.38</td><td>5.0801</td><td>0.072</td><td>0.0048</td></tr>\n",
       "<tr><td>189</td><td>SDSSJ024642.55+004137.2</td><td>0.38</td><td>17.43</td><td>0.072</td><td>0.04</td></tr>\n",
       "<tr><td>217</td><td>SDSSJ030308.35+005444.1</td><td>0.287</td><td>3.226505</td><td>0.107</td><td>1e-06</td></tr>\n",
       "<tr><td>229</td><td>SDSSJ031404.98-011136.6</td><td>0.319</td><td>6.32</td><td>0.09</td><td>0.02</td></tr>\n",
       "<tr><td>235</td><td>SDSSJ032038.72-063822.9</td><td>0.255</td><td>3.3751</td><td>0.124</td><td>0.0018</td></tr>\n",
       "<tr><td>...</td><td>...</td><td>...</td><td>...</td><td>...</td><td>...</td></tr>\n",
       "<tr><td>2122</td><td>SDSSJ110517.60+385125.7</td><td>0.38</td><td>8.274</td><td>0.072</td><td>0.011</td></tr>\n",
       "<tr><td>2171</td><td>SDSSJ130012.49+190857.4</td><td>0.319</td><td>7.391</td><td>0.09</td><td>0.013</td></tr>\n",
       "<tr><td>2174</td><td>SDSSJ131632.04-003758.0</td><td>0.38</td><td>9.66</td><td>0.072</td><td>0.2</td></tr>\n",
       "<tr><td>2182</td><td>SDSSJ134841.61+183410.5</td><td>0.319</td><td>5.962</td><td>0.09</td><td>0.001</td></tr>\n",
       "<tr><td>2196</td><td>SDSSJ142951.19+575949.0</td><td>0.38</td><td>13.08486</td><td>0.072</td><td>0.00022</td></tr>\n",
       "<tr><td>2202</td><td>SDSSJ143642.01+574146.3</td><td>0.38</td><td>20.73784</td><td>0.072</td><td>0.00071</td></tr>\n",
       "<tr><td>2216</td><td>SDSSJ155808.49+264225.7</td><td>0.319</td><td>15.9016</td><td>0.09</td><td>0.0056</td></tr>\n",
       "<tr><td>2227</td><td>SDSSJ184412.58+412029.4</td><td>0.196</td><td>5.4166</td><td>0.085</td><td>0.001</td></tr>\n",
       "<tr><td>2237</td><td>SDSSJ224307.59+312239.1</td><td>0.255</td><td>2.8703</td><td>0.124</td><td>0.0059</td></tr>\n",
       "<tr><td>2244</td><td>SDSSJ231105.66+220208.6</td><td>0.38</td><td>13.9224</td><td>0.072</td><td>0.0017</td></tr>\n",
       "</table>"
      ],
      "text/plain": [
       "<Table length=75>\n",
       "  ID          IAU NAME            M2       porb      M2e    porbe \n",
       "int64          str24           float64   float64   float64 float64\n",
       "----- ------------------------ ------- ----------- ------- -------\n",
       "   64 SDSSJ005245.11-005337.2    0.319       2.735    0.09   0.002\n",
       "   81 SDSSJ011009.09+132616.1    0.319    7.984495    0.09   3e-06\n",
       "  117 SDSSJ013851.54-001621.6    0.255 1.746529272   0.124   1e-09\n",
       "  127 SDSSJ015225.38-005808.5    0.196   2.1519468   0.085 9.9e-06\n",
       "  170 SDSSJ022503.02+005456.2    0.294       21.86    0.09    0.16\n",
       "  182 SDSSJ023804.39-000545.7     0.38      5.0801   0.072  0.0048\n",
       "  189 SDSSJ024642.55+004137.2     0.38       17.43   0.072    0.04\n",
       "  217 SDSSJ030308.35+005444.1    0.287    3.226505   0.107   1e-06\n",
       "  229 SDSSJ031404.98-011136.6    0.319        6.32    0.09    0.02\n",
       "  235 SDSSJ032038.72-063822.9    0.255      3.3751   0.124  0.0018\n",
       "  ...                      ...     ...         ...     ...     ...\n",
       " 2122 SDSSJ110517.60+385125.7     0.38       8.274   0.072   0.011\n",
       " 2171 SDSSJ130012.49+190857.4    0.319       7.391    0.09   0.013\n",
       " 2174 SDSSJ131632.04-003758.0     0.38        9.66   0.072     0.2\n",
       " 2182 SDSSJ134841.61+183410.5    0.319       5.962    0.09   0.001\n",
       " 2196 SDSSJ142951.19+575949.0     0.38    13.08486   0.072 0.00022\n",
       " 2202 SDSSJ143642.01+574146.3     0.38    20.73784   0.072 0.00071\n",
       " 2216 SDSSJ155808.49+264225.7    0.319     15.9016    0.09  0.0056\n",
       " 2227 SDSSJ184412.58+412029.4    0.196      5.4166   0.085   0.001\n",
       " 2237 SDSSJ224307.59+312239.1    0.255      2.8703   0.124  0.0059\n",
       " 2244 SDSSJ231105.66+220208.6     0.38     13.9224   0.072  0.0017"
      ]
     },
     "execution_count": 18,
     "metadata": {},
     "output_type": "execute_result"
    }
   ],
   "source": [
    "sdss"
   ]
  },
  {
   "cell_type": "code",
   "execution_count": 21,
   "metadata": {},
   "outputs": [
    {
     "data": {
      "text/plain": [
       "<ErrorbarContainer object of 3 artists>"
      ]
     },
     "execution_count": 21,
     "metadata": {},
     "output_type": "execute_result"
    },
    {
     "data": {
      "image/png": "[encoded data removed]",
      "text/plain": [
       "<Figure size 1008x360 with 1 Axes>"
      ]
     },
     "metadata": {
      "needs_background": "light"
     },
     "output_type": "display_data"
    }
   ],
   "source": [
    "plt.errorbar(sdss['porb'], sdss['M2'], xerr=sdss['M2e'], yerr=sdss['porbe'], marker='o', ls='none')\n",
    "#plt.errorbar()"
   ]
  },
  {
   "cell_type": "code",
   "execution_count": 22,
   "metadata": {},
   "outputs": [],
   "source": [
    "period = 4.226953752501198\n",
    "pe = 0.2\n",
    "m2 = 0.08224821973550357\n",
    "m2e = 0.009135699983472514"
   ]
  },
  {
   "cell_type": "code",
   "execution_count": 24,
   "metadata": {},
   "outputs": [
    {
     "data": {
      "text/plain": [
       "(0, 30)"
      ]
     },
     "execution_count": 24,
     "metadata": {},
     "output_type": "execute_result"
    },
    {
     "data": {
      "image/png": "[encoded data removed]",
      "text/plain": [
       "<Figure size 1008x360 with 1 Axes>"
      ]
     },
     "metadata": {
      "needs_background": "light"
     },
     "output_type": "display_data"
    }
   ],
   "source": [
    "plt.errorbar(sdss['porb'], sdss['M2'], xerr=sdss['M2e'], yerr=sdss['porbe'], marker='o', ls='none')\n",
    "plt.errorbar(period, m2, xerr=pe, yerr=m2e, marker='o', ls='none')\n",
    "plt.xlim(0, 30)"
   ]
  },
  {
   "cell_type": "code",
   "execution_count": null,
   "metadata": {},
   "outputs": [],
   "source": []
  }
 ],
 "metadata": {
  "kernelspec": {
   "display_name": "Python 3",
   "language": "python",
   "name": "python3"
  },
  "language_info": {
   "codemirror_mode": {
    "name": "ipython",
    "version": 3
   },
   "file_extension": ".py",
   "mimetype": "text/x-python",
   "name": "python",
   "nbconvert_exporter": "python",
   "pygments_lexer": "ipython3",
   "version": "3.7.3"
  }
 },
 "nbformat": 4,
 "nbformat_minor": 4
}
