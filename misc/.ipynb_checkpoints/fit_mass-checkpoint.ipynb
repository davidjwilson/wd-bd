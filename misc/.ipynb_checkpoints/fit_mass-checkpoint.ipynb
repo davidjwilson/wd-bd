{
 "cells": [
  {
   "cell_type": "markdown",
   "metadata": {},
   "source": [
    "1. Fit to ca lines\n",
    "2. Use ca fit to correct ha lines\n",
    "3. Fit ha lines"
   ]
  },
  {
   "cell_type": "code",
   "execution_count": 2,
   "metadata": {},
   "outputs": [],
   "source": [
    "#first get the python modules we need\n",
    "import numpy as np\n",
    "import matplotlib.pyplot as plt\n",
    "import astropy.io.fits as fits\n",
    "import os\n",
    "import glob\n",
    "from astropy.convolution import convolve, Box1DKernel\n",
    "from astropy.table import Table\n",
    "import astropy.units as u\n",
    "from astropy.modeling import models, fitting\n",
    "\n",
    "\n",
    "#matplotlib set up\n",
    "%matplotlib inline\n",
    "from matplotlib import rcParams\n",
    "rcParams[\"figure.figsize\"] = (14, 5)\n",
    "rcParams[\"font.size\"] = 20"
   ]
  },
  {
   "cell_type": "code",
   "execution_count": 5,
   "metadata": {},
   "outputs": [
    {
     "data": {
      "text/plain": [
       "['ca_dvs.ecsv', 'ha_em_dvs.ecsv', 'ha_ab_dvs.ecsv']"
      ]
     },
     "execution_count": 5,
     "metadata": {},
     "output_type": "execute_result"
    }
   ],
   "source": [
    "linepath = 'dv_lists/'\n",
    "os.listdir(linepath)"
   ]
  },
  {
   "cell_type": "code",
   "execution_count": 6,
   "metadata": {},
   "outputs": [],
   "source": [
    "ca_dvs = Table.read(linepath+'ca_dvs.ecsv')"
   ]
  },
  {
   "cell_type": "code",
   "execution_count": 7,
   "metadata": {},
   "outputs": [],
   "source": [
    "tc, dvc, dvec = ca_dvs['MJD'], ca_dvs['VELOCITY'], ca_dvs['ERROR']"
   ]
  },
  {
   "cell_type": "code",
   "execution_count": 13,
   "metadata": {},
   "outputs": [
    {
     "data": {
      "image/png": "[encoded data removed]",
      "text/plain": [
       "<Figure size 1008x360 with 1 Axes>"
      ]
     },
     "metadata": {
      "needs_background": "light"
     },
     "output_type": "display_data"
    }
   ],
   "source": [
    "plt.errorbar(tc*24, dvc, yerr=dvec, ls='none', marker='o')\n",
    "#tc *=24"
   ]
  },
  {
   "cell_type": "code",
   "execution_count": 12,
   "metadata": {},
   "outputs": [
    {
     "name": "stdout",
     "output_type": "stream",
     "text": [
      "Inequality constraints incompatible    (Exit mode 4)\n",
      "            Current function value: 4104062.2252690815\n",
      "            Iterations: 1\n",
      "            Function evaluations: 6\n",
      "            Gradient evaluations: 1\n",
      "Model: CompoundModel2\n",
      "Inputs: ('x',)\n",
      "Outputs: ('y',)\n",
      "Model set size: 1\n",
      "Expression: [0] + [1]\n",
      "Components: \n",
      "    [0]: <Const1D(amplitude=27.)>\n",
      "\n",
      "    [1]: <Sine1D(amplitude=190., frequency=0.23640662, phase=-2260.20259328)>\n",
      "Parameters:\n",
      "    amplitude_0 amplitude_1     frequency_1           phase_1      \n",
      "    ----------- ----------- ------------------- -------------------\n",
      "           27.0       190.0 0.23640661938534277 -2260.2025932837037\n",
      "4.23\n"
     ]
    },
    {
     "data": {
      "image/png": "[encoded data removed]",
      "text/plain": [
       "<Figure size 1008x360 with 1 Axes>"
      ]
     },
     "metadata": {
      "needs_background": "light"
     },
     "output_type": "display_data"
    }
   ],
   "source": [
    "fitter = fitting.SLSQPLSQFitter()\n",
    "sine_mod =  models.Const1D(27, bounds=dict(amplitude=[0, 60])) + models.Sine1D(amplitude=190, frequency=1/4.23, phase = -2260.2025932837037,bounds=dict(amplitude=[170, 250], frequency=[1/4.5, 1/4.1]))\n",
    "sine_fit = fitter(sine_mod, tc*24, dvc, weights=1/dvec, maxiter=100)\n",
    "print(sine_fit)\n",
    "plt.errorbar(tc*24, dvc, yerr=dvec, marker='o', ls='none')\n",
    "t_plot = np.arange(0, 30, 0.1)\n",
    "plt.plot(t_plot, sine_fit(t_plot))\n",
    "print(1/sine_fit[1].frequency)"
   ]
  },
  {
   "cell_type": "code",
   "execution_count": null,
   "metadata": {},
   "outputs": [],
   "source": []
  }
 ],
 "metadata": {
  "kernelspec": {
   "display_name": "Python 3",
   "language": "python",
   "name": "python3"
  },
  "language_info": {
   "codemirror_mode": {
    "name": "ipython",
    "version": 3
   },
   "file_extension": ".py",
   "mimetype": "text/x-python",
   "name": "python",
   "nbconvert_exporter": "python",
   "pygments_lexer": "ipython3",
   "version": "3.7.4"
  }
 },
 "nbformat": 4,
 "nbformat_minor": 4
}
