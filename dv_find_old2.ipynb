{
 "cells": [
  {
   "cell_type": "code",
   "execution_count": 18,
   "metadata": {},
   "outputs": [],
   "source": [
    "#first get the python modules we need\n",
    "import numpy as np\n",
    "import matplotlib.pyplot as plt\n",
    "import astropy.io.fits as fits\n",
    "import os\n",
    "import glob\n",
    "from astropy.convolution import convolve, Box1DKernel\n",
    "from astropy.table import Table\n",
    "import astropy.units as u\n",
    "from astropy.modeling import models, fitting\n",
    "\n",
    "\n",
    "#matplotlib set up\n",
    "%matplotlib inline\n",
    "from matplotlib import rcParams\n",
    "rcParams[\"figure.figsize\"] = (14, 5)\n",
    "rcParams[\"font.size\"] = 20"
   ]
  },
  {
   "cell_type": "code",
   "execution_count": 19,
   "metadata": {},
   "outputs": [],
   "source": [
    "lines = [8498.02,8542.09,8662.14]\n",
    "path = '/home/david/work/1144_lt/spectra/nicola_2/WDJ114404.76+052951.77/' #note the / on the end\n",
    "\n",
    "vispath = path + 'VIS_notell/'\n",
    "sp = glob.glob(vispath+'*TAC.csv')"
   ]
  },
  {
   "cell_type": "code",
   "execution_count": 20,
   "metadata": {},
   "outputs": [],
   "source": [
    "line_list = Table.read('line_positions.ecsv')"
   ]
  },
  {
   "cell_type": "code",
   "execution_count": 21,
   "metadata": {},
   "outputs": [],
   "source": [
    "all_sp = line_list"
   ]
  },
  {
   "cell_type": "code",
   "execution_count": 22,
   "metadata": {},
   "outputs": [
    {
     "data": {
      "text/plain": [
       "24"
      ]
     },
     "execution_count": 22,
     "metadata": {},
     "output_type": "execute_result"
    }
   ],
   "source": [
    "len(line_list[line_list['Xs'] !=  -1.0])"
   ]
  },
  {
   "cell_type": "code",
   "execution_count": 23,
   "metadata": {},
   "outputs": [],
   "source": [
    "line_list = line_list[line_list['Xs'] !=  -1.0]"
   ]
  },
  {
   "cell_type": "code",
   "execution_count": 24,
   "metadata": {},
   "outputs": [],
   "source": [
    "sp_lines, xs = line_list['FILENAME'], line_list['Xs']"
   ]
  },
  {
   "cell_type": "code",
   "execution_count": 25,
   "metadata": {},
   "outputs": [],
   "source": [
    "def get_shifted_lines(x, lines):\n",
    "    #calculates the approximate positions of the shifted lines\n",
    "    rest_lam = lines[0]*u.AA\n",
    "    obs_lam = x*u.AA\n",
    "    dv = obs_lam.to(u.km/u.s,  equivalencies=u.doppler_optical(rest_lam))\n",
    "    #print(dv)\n",
    "    l2 = dv.to(u.AA, equivalencies=u.doppler_optical(lines[1]*u.AA))\n",
    "    l3 = dv.to(u.AA, equivalencies=u.doppler_optical(lines[2]*u.AA))\n",
    "    return np.array([x, l2.value, l3.value])\n",
    "\n",
    "def make_plot_spec(w, f, e, mask1, mask2): #cuts spectrum down to the bit to plot\n",
    "    #mask = (w > 8450) & (w < 8480) | (w > 8520) & (w <8540) | (w > 8560) & (w< 8660) | (w > 8680) & (w < 8700) #mask out emmission lines\n",
    "    w1, f1 = w[mask1], f[mask1]\n",
    "    n_init = models.Polynomial1D(3)\n",
    "    n_fit = fitter(n_init, w1, f1)\n",
    "    #mask = (w > 8450) & (w < 8700)\n",
    "    w1, f1, e1 = w[mask2], f[mask2], e[mask2]\n",
    "    nf = f1/n_fit(w1)\n",
    "    ne = e1/n_fit(w1)\n",
    "    smooth = 10\n",
    "    nf = convolve(nf,Box1DKernel(smooth))\n",
    "    ne = convolve(ne,Box1DKernel(smooth))/smooth**0.5\n",
    "    return w1,nf, ne\n",
    "    \n",
    "    \n",
    "def dv_average(dvs, es):\n",
    "    \"\"\"\n",
    "    Returns a variance-weighted dv with standard error of the weighted mean (variance weights, scale corrected).\n",
    "    \n",
    "    \"\"\"\n",
    "    weights = 1 / (es**2)\n",
    "    dv = np.average(dvs, weights = weights)\n",
    "    var = 1 / np.sum(weights)\n",
    "    rcs = np.sum((((dv - dvs)**2) * weights)) / (len(dvs)-1) #reduced chi-squared\n",
    "    error = (var * rcs)**0.5\n",
    "    return dv, error\n",
    "#get_shifted_lines(xs[0], lines)"
   ]
  },
  {
   "cell_type": "code",
   "execution_count": 40,
   "metadata": {},
   "outputs": [
    {
     "name": "stderr",
     "output_type": "stream",
     "text": [
      "WARNING: Model is linear in parameters; consider using linear fitting methods. [astropy.modeling.fitting]\n"
     ]
    }
   ],
   "source": [
    "fitter = fitting.LevMarLSQFitter()\n",
    "dvs = []\n",
    "dves = []\n",
    "dates = []\n",
    "for s, x in zip(sp_lines, xs):\n",
    "   # print(s)\n",
    "    w, f, e = np.loadtxt(s, unpack=True, delimiter=',')\n",
    "    slines = get_shifted_lines(x, lines)\n",
    "    mask1 = (w > 8450) & (w < slines[0]-5) | (w > slines[0]+5) & (w <slines[1]-5) | (w > slines[1]+5) & (w< slines[2]-5) | (w > slines[2]+5) & (w < 8700)\n",
    "    mask2 = (w> 8460) & (w < 8690) \n",
    "    w, f, e =  make_plot_spec(w, f,e , mask1, mask2)\n",
    "    #plt.plot(w, f)\n",
    "    date = fits.getheader(s[:-3]+'fits')['MJD-OBS'] \n",
    "    dates.append(date)\n",
    "    \n",
    "    \n",
    "  #  plt.figure() \n",
    "    for i in range(len(lines)):\n",
    "        line = lines[i]\n",
    "        guess = slines[i]\n",
    "        if i == 0:\n",
    "            gg_init = models.Const1D(1.0)+models.Gaussian1D(1.0, guess,1.0)    \n",
    "        else:\n",
    "            gg_init = gg_init + models.Gaussian1D(1.0, guess, 1.0)\n",
    "   #     plt.axvline(line, c='r', ls='--')\n",
    "    gg_fit = fitter(gg_init, w, f, weights=1/e, maxiter=1000)\n",
    "    fit_e = np.sqrt(np.diag(fitter.fit_info['param_cov']))\n",
    "    \n",
    "    #print(gg_fit)\n",
    "    #print(fit_e)\n",
    "    \n",
    "  #  plt.plot(w, f)\n",
    "  #  plt.plot(w, gg_fit(w))\n",
    "  #  plt.show()\n",
    "    obs_lines = [gg_fit[1].mean*u.AA, gg_fit[2].mean*u.AA, gg_fit[3].mean*u.AA]\n",
    "    obs_e = [fit_e[2]*u.AA, fit_e[5]*u.AA, fit_e[8]*u.AA]\n",
    "    dv = [obs_lam.to(u.km/u.s,  equivalencies=u.doppler_optical(rest_lam*u.AA)).value for obs_lam, rest_lam in zip(obs_lines, lines)]\n",
    "    \n",
    "    e_up = [(obs_lam+e_lam).to(u.km/u.s,  equivalencies=u.doppler_optical(rest_lam*u.AA)).value for obs_lam, e_lam, rest_lam in zip(obs_lines, obs_e, lines)]\n",
    "    e_down = [(obs_lam-e_lam).to(u.km/u.s,  equivalencies=u.doppler_optical(rest_lam*u.AA)).value for obs_lam, e_lam, rest_lam in zip(obs_lines, obs_e, lines)]\n",
    "    e_up = np.array([abs(e-d) for e, d in zip(e_up, dv)])\n",
    "    e_down = np.array([abs(e-d) for e, d in zip(e_down, dv)])\n",
    "    es = np.mean([e_up, e_down], axis=0)\n",
    "    #print(len(es))\n",
    "    dv, dve = dv_average(dv, es)\n",
    "    dvs.append(dv)\n",
    "    dves.append(dve)\n",
    "    \n",
    "    #dvs.append(np.mean(dv))\n",
    "    #print(np.std(dv))\n",
    "    \n",
    "    "
   ]
  },
  {
   "cell_type": "code",
   "execution_count": 27,
   "metadata": {},
   "outputs": [
    {
     "data": {
      "text/plain": [
       "<ErrorbarContainer object of 3 artists>"
      ]
     },
     "execution_count": 27,
     "metadata": {},
     "output_type": "execute_result"
    },
    {
     "data": {
      "image/png": "[encoded data removed]",
      "text/plain": [
       "<Figure size 1008x360 with 1 Axes>"
      ]
     },
     "metadata": {
      "needs_background": "light"
     },
     "output_type": "display_data"
    }
   ],
   "source": [
    "plt.errorbar(dates, dvs, yerr=dves, marker='o', ls='none')"
   ]
  },
  {
   "cell_type": "code",
   "execution_count": 28,
   "metadata": {},
   "outputs": [],
   "source": [
    "from astropy.timeseries import LombScargle"
   ]
  },
  {
   "cell_type": "code",
   "execution_count": 29,
   "metadata": {},
   "outputs": [],
   "source": [
    "\n",
    "dates = np.array(dates) + (150/86400)\n",
    "args = np.argsort(dates)"
   ]
  },
  {
   "cell_type": "code",
   "execution_count": 30,
   "metadata": {},
   "outputs": [],
   "source": [
    "t = dates[args]\n",
    "dvs = np.array(dvs)[args]\n",
    "dves= np.array(dves)[args]\n",
    "t_unnorm = t*24\n",
    "t = (t-t[0])*24"
   ]
  },
  {
   "cell_type": "code",
   "execution_count": 37,
   "metadata": {},
   "outputs": [
    {
     "name": "stdout",
     "output_type": "stream",
     "text": [
      "4.217385925598945\n"
     ]
    },
    {
     "data": {
      "text/plain": [
       "[<matplotlib.lines.Line2D at 0x7f76dc1d5990>]"
      ]
     },
     "execution_count": 37,
     "metadata": {},
     "output_type": "execute_result"
    },
    {
     "data": {
      "image/png": "[encoded data removed]",
      "text/plain": [
       "<Figure size 1008x360 with 1 Axes>"
      ]
     },
     "metadata": {
      "needs_background": "light"
     },
     "output_type": "display_data"
    }
   ],
   "source": [
    "\n",
    "frequency = np.linspace(1/5, 1/3, 100000)\n",
    "power = LombScargle(t, dvs, normalization='model').power(frequency)\n",
    "period = 1/frequency[np.argmax(power)]\n",
    "print(period)\n",
    "plt.plot(1/frequency, power)"
   ]
  },
  {
   "cell_type": "code",
   "execution_count": 32,
   "metadata": {},
   "outputs": [
    {
     "data": {
      "text/plain": [
       "<ErrorbarContainer object of 3 artists>"
      ]
     },
     "execution_count": 32,
     "metadata": {},
     "output_type": "execute_result"
    },
    {
     "data": {
      "image/png": "[encoded data removed]",
      "text/plain": [
       "<Figure size 1008x360 with 1 Axes>"
      ]
     },
     "metadata": {
      "needs_background": "light"
     },
     "output_type": "display_data"
    }
   ],
   "source": [
    "t_fold = (t/period) %1\n",
    "plt.errorbar(t, dvs, yerr=dves, marker='o', ls='none')"
   ]
  },
  {
   "cell_type": "markdown",
   "metadata": {},
   "source": [
    "Can't deal with errors for some reason -fixed- weights = 1/e"
   ]
  },
  {
   "cell_type": "markdown",
   "metadata": {},
   "source": [
    "Try the absorption lines?"
   ]
  },
  {
   "cell_type": "code",
   "execution_count": 33,
   "metadata": {},
   "outputs": [],
   "source": [
    "abs_dates = []\n",
    "for s, x in zip(all_sp['FILENAME'], all_sp['Xs']):\n",
    "    date = fits.getheader(s[:-3]+'fits')['MJD-OBS']\n",
    "    abs_dates.append(date)\n",
    "abs_args = np.argsort(abs_dates)"
   ]
  },
  {
   "cell_type": "code",
   "execution_count": 34,
   "metadata": {},
   "outputs": [
    {
     "ename": "NameError",
     "evalue": "name 'dvs_1' is not defined",
     "output_type": "error",
     "traceback": [
      "\u001b[0;31m---------------------------------------------------------------------------\u001b[0m",
      "\u001b[0;31mNameError\u001b[0m                                 Traceback (most recent call last)",
      "\u001b[0;32m<ipython-input-34-0529cdc1cb97>\u001b[0m in \u001b[0;36m<module>\u001b[0;34m()\u001b[0m\n\u001b[0;32m----> 1\u001b[0;31m \u001b[0mplt\u001b[0m\u001b[0;34m.\u001b[0m\u001b[0merrorbar\u001b[0m\u001b[0;34m(\u001b[0m\u001b[0mabs_dates\u001b[0m\u001b[0;34m,\u001b[0m \u001b[0mdvs_1\u001b[0m\u001b[0;34m,\u001b[0m \u001b[0mls\u001b[0m\u001b[0;34m=\u001b[0m\u001b[0;34m'none'\u001b[0m\u001b[0;34m,\u001b[0m \u001b[0mmarker\u001b[0m\u001b[0;34m=\u001b[0m\u001b[0;34m'o'\u001b[0m\u001b[0;34m)\u001b[0m\u001b[0;34m\u001b[0m\u001b[0;34m\u001b[0m\u001b[0m\n\u001b[0m\u001b[1;32m      2\u001b[0m \u001b[0mplt\u001b[0m\u001b[0;34m.\u001b[0m\u001b[0merrorbar\u001b[0m\u001b[0;34m(\u001b[0m\u001b[0mabs_dates\u001b[0m\u001b[0;34m,\u001b[0m \u001b[0mdvs_2\u001b[0m\u001b[0;34m,\u001b[0m \u001b[0mls\u001b[0m\u001b[0;34m=\u001b[0m\u001b[0;34m'none'\u001b[0m\u001b[0;34m,\u001b[0m \u001b[0mmarker\u001b[0m\u001b[0;34m=\u001b[0m\u001b[0;34m'o'\u001b[0m\u001b[0;34m)\u001b[0m\u001b[0;34m\u001b[0m\u001b[0;34m\u001b[0m\u001b[0m\n\u001b[1;32m      3\u001b[0m \u001b[0mplt\u001b[0m\u001b[0;34m.\u001b[0m\u001b[0merrorbar\u001b[0m\u001b[0;34m(\u001b[0m\u001b[0mabs_dates\u001b[0m\u001b[0;34m,\u001b[0m \u001b[0mdvs_3\u001b[0m\u001b[0;34m,\u001b[0m \u001b[0mls\u001b[0m\u001b[0;34m=\u001b[0m\u001b[0;34m'none'\u001b[0m\u001b[0;34m,\u001b[0m \u001b[0mmarker\u001b[0m\u001b[0;34m=\u001b[0m\u001b[0;34m'o'\u001b[0m\u001b[0;34m)\u001b[0m\u001b[0;34m\u001b[0m\u001b[0;34m\u001b[0m\u001b[0m\n",
      "\u001b[0;31mNameError\u001b[0m: name 'dvs_1' is not defined"
     ]
    }
   ],
   "source": [
    "plt.errorbar(abs_dates, dvs_1, ls='none', marker='o')\n",
    "plt.errorbar(abs_dates, dvs_2, ls='none', marker='o')\n",
    "plt.errorbar(abs_dates, dvs_3, ls='none', marker='o')"
   ]
  },
  {
   "cell_type": "markdown",
   "metadata": {},
   "source": [
    "Great, it doesn't depend on which gaussian is used. Try doing it once and bruteforce it to get the errors"
   ]
  },
  {
   "cell_type": "code",
   "execution_count": 39,
   "metadata": {},
   "outputs": [
    {
     "name": "stdout",
     "output_type": "stream",
     "text": [
      "/home/david/work/1144_lt/spectra/nicola_2/WDJ114404.76+052951.77/VIS_notell/WDJ114404.76+052951.77_SCI_SLIT_FLUX_MERGE1D_VIS_30_TAC.csv\n"
     ]
    },
    {
     "name": "stderr",
     "output_type": "stream",
     "text": [
      "WARNING: Model is linear in parameters; consider using linear fitting methods. [astropy.modeling.fitting]\n"
     ]
    },
    {
     "name": "stdout",
     "output_type": "stream",
     "text": [
      "/home/david/work/1144_lt/spectra/nicola_2/WDJ114404.76+052951.77/VIS_notell/WDJ114404.76+052951.77_SCI_SLIT_FLUX_MERGE1D_VIS_21_TAC.csv\n"
     ]
    },
    {
     "ename": "NameError",
     "evalue": "name 'sine_fit' is not defined",
     "output_type": "error",
     "traceback": [
      "\u001b[0;31m---------------------------------------------------------------------------\u001b[0m",
      "\u001b[0;31mNameError\u001b[0m                                 Traceback (most recent call last)",
      "\u001b[0;32m<ipython-input-39-9832f07ec077>\u001b[0m in \u001b[0;36m<module>\u001b[0;34m()\u001b[0m\n\u001b[1;32m     45\u001b[0m     \u001b[0;31m#    h_guess = halpha-5\u001b[0m\u001b[0;34m\u001b[0m\u001b[0;34m\u001b[0m\u001b[0;34m\u001b[0m\u001b[0m\n\u001b[1;32m     46\u001b[0m         \u001b[0mdt_fold\u001b[0m \u001b[0;34m=\u001b[0m \u001b[0;34m(\u001b[0m\u001b[0mdate\u001b[0m\u001b[0;34m*\u001b[0m\u001b[0;36m24\u001b[0m\u001b[0;34m)\u001b[0m\u001b[0;34m/\u001b[0m\u001b[0mperiod\u001b[0m \u001b[0;34m%\u001b[0m\u001b[0;36m1\u001b[0m\u001b[0;34m\u001b[0m\u001b[0;34m\u001b[0m\u001b[0m\n\u001b[0;32m---> 47\u001b[0;31m         \u001b[0mh_guess\u001b[0m \u001b[0;34m=\u001b[0m \u001b[0msine_fit\u001b[0m\u001b[0;34m(\u001b[0m\u001b[0mdt_fold\u001b[0m\u001b[0;34m)\u001b[0m\u001b[0;34m*\u001b[0m\u001b[0mu\u001b[0m\u001b[0;34m.\u001b[0m\u001b[0mkm\u001b[0m\u001b[0;34m/\u001b[0m\u001b[0mu\u001b[0m\u001b[0;34m.\u001b[0m\u001b[0ms\u001b[0m\u001b[0;34m\u001b[0m\u001b[0;34m\u001b[0m\u001b[0m\n\u001b[0m\u001b[1;32m     48\u001b[0m         \u001b[0mh_guess\u001b[0m \u001b[0;34m=\u001b[0m \u001b[0mh_guess\u001b[0m\u001b[0;34m.\u001b[0m\u001b[0mto\u001b[0m\u001b[0;34m(\u001b[0m\u001b[0mu\u001b[0m\u001b[0;34m.\u001b[0m\u001b[0mAA\u001b[0m\u001b[0;34m,\u001b[0m \u001b[0mequivalencies\u001b[0m\u001b[0;34m=\u001b[0m\u001b[0mu\u001b[0m\u001b[0;34m.\u001b[0m\u001b[0mdoppler_optical\u001b[0m\u001b[0;34m(\u001b[0m\u001b[0mhalpha\u001b[0m\u001b[0;34m*\u001b[0m\u001b[0mu\u001b[0m\u001b[0;34m.\u001b[0m\u001b[0mAA\u001b[0m\u001b[0;34m)\u001b[0m\u001b[0;34m)\u001b[0m\u001b[0;34m.\u001b[0m\u001b[0mvalue\u001b[0m\u001b[0;34m\u001b[0m\u001b[0;34m\u001b[0m\u001b[0m\n\u001b[1;32m     49\u001b[0m     \u001b[0mgg_init\u001b[0m \u001b[0;34m+=\u001b[0m \u001b[0mmodels\u001b[0m\u001b[0;34m.\u001b[0m\u001b[0mGaussian1D\u001b[0m\u001b[0;34m(\u001b[0m\u001b[0;36m1.0\u001b[0m\u001b[0;34m,\u001b[0m \u001b[0mh_guess\u001b[0m\u001b[0;34m,\u001b[0m\u001b[0;36m0.5\u001b[0m\u001b[0;34m,\u001b[0m \u001b[0mbounds\u001b[0m\u001b[0;34m=\u001b[0m\u001b[0;34m{\u001b[0m\u001b[0;34m'mean'\u001b[0m\u001b[0;34m:\u001b[0m\u001b[0;34m[\u001b[0m\u001b[0mh_guess\u001b[0m\u001b[0;34m-\u001b[0m\u001b[0;36m1\u001b[0m\u001b[0;34m,\u001b[0m \u001b[0mh_guess\u001b[0m\u001b[0;34m+\u001b[0m\u001b[0;36m1\u001b[0m\u001b[0;34m]\u001b[0m\u001b[0;34m,\u001b[0m \u001b[0;34m'stddev'\u001b[0m\u001b[0;34m:\u001b[0m\u001b[0;34m[\u001b[0m\u001b[0;36m0.1\u001b[0m\u001b[0;34m,\u001b[0m \u001b[0;36m3\u001b[0m\u001b[0;34m]\u001b[0m\u001b[0;34m}\u001b[0m\u001b[0;34m)\u001b[0m\u001b[0;34m\u001b[0m\u001b[0;34m\u001b[0m\u001b[0m\n",
      "\u001b[0;31mNameError\u001b[0m: name 'sine_fit' is not defined"
     ]
    }
   ],
   "source": [
    "fitter = fitting.LevMarLSQFitter()\n",
    "abs_dvs = []\n",
    "abs_dves = []\n",
    "abs_dates = []\n",
    "halpha = 6562.77\n",
    "h_em = []\n",
    "h_eme = []\n",
    "dvs_1 = []\n",
    "dvs_1e = []\n",
    "#dvs_2 = []\n",
    "\n",
    "#dvs_3 = []\n",
    "\n",
    "def tiedfunc0(gg_init):\n",
    "    mean = gg_init.mean_0.value\n",
    "    return mean\n",
    "\n",
    "for s, x in zip(all_sp['FILENAME'], all_sp['Xs']):\n",
    "#for s, x in zip(sp_lines, xs):\n",
    "    print(s)\n",
    "    w, f, e = np.loadtxt(s, unpack=True, delimiter=',')\n",
    "    slines = get_shifted_lines(x, lines)\n",
    "    mask1 = (w> 6400) & (w < 6450) | (w > 6650) & (w < 6800)\n",
    "    mask2 = (w> 6400) & (w < 6800) \n",
    "    w, f, e =  make_plot_spec(w, f,e , mask1, mask2)\n",
    "    #plt.plot(w, f)\n",
    "    date = fits.getheader(s[:-3]+'fits')['MJD-OBS']\n",
    "    #abs_dates.append(date)\n",
    "    \n",
    "    \n",
    "  #  plt.figure() \n",
    "  #, bounds={'amplitude':[-0.1, -0.3]}\n",
    "   # plt.axvline(halpha, c='r', ls='--')\n",
    "    gg_init = models.Gaussian1D(-0.3, halpha,1.0)+ models.Gaussian1D(-0.4, halpha,0.5)+models.Gaussian1D(-0.2, halpha,30) + models.Const1D(1.0) \n",
    "\n",
    "    gg_init.stddev_1.bounds = [0.1, 1.2]\n",
    "    gg_init.stddev_0.bounds = [1.5,6]\n",
    "    \n",
    "    if x != -1:\n",
    "        rest_lam = lines[0]*u.AA\n",
    "        obs_lam = x*u.AA\n",
    "        dv = obs_lam.to(u.km/u.s,  equivalencies=u.doppler_optical(rest_lam))\n",
    "        h_guess = dv.to(u.AA, equivalencies=u.doppler_optical(halpha*u.AA)).value\n",
    "    else:\n",
    "    #    h_guess = halpha-5\n",
    "        dt_fold = (date*24)/period %1\n",
    "        h_guess = sine_fit(dt_fold)*u.km/u.s\n",
    "        h_guess = h_guess.to(u.AA, equivalencies=u.doppler_optical(halpha*u.AA)).value\n",
    "    gg_init += models.Gaussian1D(1.0, h_guess,0.5, bounds={'mean':[h_guess-1, h_guess+1], 'stddev':[0.1, 3]})\n",
    "    gg_init.mean_1.tied=tiedfunc0\n",
    "    gg_init.mean_2.tied=tiedfunc0\n",
    "    gg_fit = fitter(gg_init, w, f, weights=1/e, maxiter=100000)\n",
    "    #print(gg_fit)\n",
    "    #print(fitter.fit_info['param_cov'])\n",
    "    obs_lam = gg_fit[1].mean*u.AA\n",
    "    abs_dates.append(date)\n",
    "    dv = obs_lam.to(u.km/u.s,  equivalencies=u.doppler_optical(halpha*u.AA)).value\n",
    "    dvs_1.append(dv)\n",
    "     \n",
    "    em_line = gg_fit[4].mean*u.AA\n",
    "    dv_em = em_line.to(u.km/u.s,  equivalencies=u.doppler_optical(halpha*u.AA)).value\n",
    "    h_em.append(dv_em)\n",
    "    \n",
    "    if fitter.fit_info['param_cov'] is None:\n",
    "        dvs_1e.append(15)\n",
    "        h_eme.append(15)\n",
    "    else:\n",
    "       # print('yes')\n",
    "        fit_e = np.sqrt(np.diag(fitter.fit_info['param_cov']))\n",
    "        #print(len(fit_e))\n",
    "       # print (fitter.fit_info)\n",
    "        e_lam = fit_e[1]*u.AA\n",
    "        e_up = (obs_lam+e_lam).to(u.km/u.s,  equivalencies=u.doppler_optical(halpha*u.AA)).value         \n",
    "        e_down = (obs_lam-e_lam).to(u.km/u.s,  equivalencies=u.doppler_optical(halpha*u.AA)).value \n",
    "        e_up = abs(e_up- dv)        \n",
    "        e_down = abs(e_down-dv) \n",
    "        es = np.mean([e_up, e_down])\n",
    "        dvs_1e.append(es)\n",
    "        \n",
    "        e_lam = fit_e[9]*u.AA\n",
    "        e_up = (em_line+e_lam).to(u.km/u.s,  equivalencies=u.doppler_optical(halpha*u.AA)).value         \n",
    "        e_down = (em_line-e_lam).to(u.km/u.s,  equivalencies=u.doppler_optical(halpha*u.AA)).value \n",
    "        e_up = abs(e_up- dv_em)        \n",
    "        e_down = abs(e_down-dv_em) \n",
    "        es = np.mean([e_up, e_down])\n",
    "        h_eme.append(es)\n",
    "        \n",
    "        \n",
    "        \n",
    "    \n",
    "    \n",
    "    "
   ]
  },
  {
   "cell_type": "code",
   "execution_count": null,
   "metadata": {},
   "outputs": [],
   "source": [
    "print(len(abs_dates), len(dvs_1), len(dvs_1e))\n",
    "plt.errorbar(abs_dates, dvs_1, yerr=dvs_1e, ls='none', marker='o')"
   ]
  },
  {
   "cell_type": "markdown",
   "metadata": {},
   "source": [
    "Failed fits have been given a guess error of 15 km/s. LS?"
   ]
  },
  {
   "cell_type": "markdown",
   "metadata": {},
   "source": [
    "Fold on original periio"
   ]
  },
  {
   "cell_type": "markdown",
   "metadata": {},
   "source": [
    "Yeah I'll take it - Need the 2018 data though."
   ]
  },
  {
   "cell_type": "code",
   "execution_count": null,
   "metadata": {},
   "outputs": [],
   "source": [
    "old_path = '/home/david/work/1144_lt/spectra/SDSSJ1144_old/'\n",
    "old_spec = glob.glob(old_path+'*VIS*.csv')\n",
    "old_spec"
   ]
  },
  {
   "cell_type": "markdown",
   "metadata": {},
   "source": [
    "So 2 is clean and can be fit normallly. 1 needs 2 fits and we can use the rest to guess where it fits in."
   ]
  },
  {
   "cell_type": "code",
   "execution_count": null,
   "metadata": {},
   "outputs": [],
   "source": [
    "fitter = fitting.LevMarLSQFitter()\n",
    "old_dvs = []\n",
    "old_dves = []\n",
    "old_dates = []\n",
    "old_xs = [8503.73,8498.5]\n",
    "for s, x in zip(old_spec, old_xs):\n",
    "    print(s)\n",
    "    w, f, e = np.loadtxt(s, unpack=True, delimiter=',')\n",
    "    slines = get_shifted_lines(x, lines)\n",
    "    mask1 = (w > 8450) & (w < slines[0]-5) | (w > slines[0]+5) & (w <slines[1]-5) | (w > slines[1]+5) & (w< slines[2]-5) | (w > slines[2]+5) & (w < 8700)\n",
    "    mask2 = (w> 8460) & (w < 8690) \n",
    "    w, f, e =  make_plot_spec(w, f,e , mask1, mask2)\n",
    "  #  plt.plot(w, f)\n",
    "    date = fits.getheader(s[:-3]+'fits')['MJD-OBS']\n",
    "    old_dates.append(date)\n",
    "    \n",
    "    #print(slines)\n",
    "    plt.figure() \n",
    "    for i in range(len(lines)):\n",
    "        line = lines[i]\n",
    "        guess = slines[i]\n",
    "        if i == 0:\n",
    "            gg_init = models.Const1D(1.0)+models.Gaussian1D(1.0, guess,1.0)    \n",
    "        else:\n",
    "            gg_init = gg_init + models.Gaussian1D(1.0, guess, 1.0)\n",
    "        plt.axvline(line, c='r', ls='--')\n",
    "    gg_fit = fitter(gg_init, w, f, weights=1/e, maxiter=10000)\n",
    "    fit_e = np.sqrt(np.diag(fitter.fit_info['param_cov']))\n",
    "    \n",
    "    #print(gg_fit)\n",
    "    #print(fit_e)\n",
    "    \n",
    "    plt.plot(w, f)\n",
    "    plt.plot(w, gg_fit(w))\n",
    "    plt.show()\n",
    "    obs_lines = [gg_fit[1].mean*u.AA, gg_fit[2].mean*u.AA, gg_fit[3].mean*u.AA]\n",
    "    obs_e = [fit_e[2]*u.AA, fit_e[5]*u.AA, fit_e[8]*u.AA]\n",
    "    dv = [obs_lam.to(u.km/u.s,  equivalencies=u.doppler_optical(rest_lam*u.AA)).value for obs_lam, rest_lam in zip(obs_lines, lines)]\n",
    "    \n",
    "    e_up = [(obs_lam+e_lam).to(u.km/u.s,  equivalencies=u.doppler_optical(rest_lam*u.AA)).value for obs_lam, e_lam, rest_lam in zip(obs_lines, obs_e, lines)]\n",
    "    e_down = [(obs_lam-e_lam).to(u.km/u.s,  equivalencies=u.doppler_optical(rest_lam*u.AA)).value for obs_lam, e_lam, rest_lam in zip(obs_lines, obs_e, lines)]\n",
    "    e_up = np.array([abs(e-d) for e, d in zip(e_up, dv)])\n",
    "    e_down = np.array([abs(e-d) for e, d in zip(e_down, dv)])\n",
    "    es = np.mean([e_up, e_down], axis=0)\n",
    "   # print(len(es))\n",
    "    dv, dve = dv_average(dv, es)\n",
    "    old_dvs.append(dv)\n",
    "    old_dves.append(dve)\n",
    "print(old_dvs, old_dves)"
   ]
  },
  {
   "cell_type": "markdown",
   "metadata": {},
   "source": [
    "Ok, first one worked, need a different approach to second."
   ]
  },
  {
   "cell_type": "code",
   "execution_count": null,
   "metadata": {},
   "outputs": [],
   "source": [
    "b_dvs = []\n",
    "b_dvs_e = []\n",
    "w, f, e = np.loadtxt(old_spec[1], unpack=True, delimiter=',')\n",
    "oxs = [8494.8, 8498.2]\n",
    "\n",
    "slines = get_shifted_lines(oxs[0], lines)\n",
    "mask1 = (w > 8450) & (w < slines[0]-5) | (w > slines[0]+5) & (w <slines[1]-5) | (w > slines[1]+5) & (w< slines[2]-5) | (w > slines[2]+5) & (w < 8700)\n",
    "mask2 = (w> 8460) & (w < 8690) \n",
    "w, f, e =  make_plot_spec(w, f,e , mask1, mask2)\n",
    "#  plt.plot(w, f)\n",
    "date = fits.getheader(s[:-3]+'fits')['MJD-OBS']\n",
    "old_dates.append(date)\n",
    "\n",
    "#print(slines)\n",
    "plt.figure() \n",
    "for i in range(len(lines)):\n",
    "    line = lines[i]\n",
    "    guess = slines[i]\n",
    "    if i == 0:\n",
    "        gg_init = models.Const1D(1.0)+models.Gaussian1D(1.0, guess,1.0)    \n",
    "    else:\n",
    "        gg_init = gg_init + models.Gaussian1D(1.0, guess, 1.0)\n",
    "    plt.axvline(line, c='r', ls='--')\n",
    "    \n",
    "#add a second set of gaussians\n",
    "slines = get_shifted_lines(oxs[1], lines)\n",
    "for i in range(len(lines)):\n",
    "    line = lines[i]\n",
    "    guess = slines[i]\n",
    "    gg_init = gg_init + models.Gaussian1D(1.0, guess, 1.0)\n",
    "\n",
    "    \n",
    "    \n",
    "gg_fit = fitter(gg_init, w, f, weights=1/e, maxiter=10000)\n",
    "fit_e = np.sqrt(np.diag(fitter.fit_info['param_cov']))\n",
    "\n",
    "print(gg_fit)\n",
    "#print(fit_e)\n",
    "\n",
    "for i in range(6):\n",
    "    line = gg_fit[i+1].mean.value\n",
    "    plt.axvline(line, c='g', ls='--') \n",
    "\n",
    "plt.plot(w, f)\n",
    "plt.plot(w, gg_fit(w))\n",
    "plt.show()\n",
    "obs_lines = [gg_fit[1].mean*u.AA, gg_fit[2].mean*u.AA, gg_fit[3].mean*u.AA]\n",
    "obs_e = [fit_e[2]*u.AA, fit_e[5]*u.AA, fit_e[8]*u.AA]\n",
    "dv = [obs_lam.to(u.km/u.s,  equivalencies=u.doppler_optical(rest_lam*u.AA)).value for obs_lam, rest_lam in zip(obs_lines, lines)]\n",
    "\n",
    "e_up = [(obs_lam+e_lam).to(u.km/u.s,  equivalencies=u.doppler_optical(rest_lam*u.AA)).value for obs_lam, e_lam, rest_lam in zip(obs_lines, obs_e, lines)]\n",
    "e_down = [(obs_lam-e_lam).to(u.km/u.s,  equivalencies=u.doppler_optical(rest_lam*u.AA)).value for obs_lam, e_lam, rest_lam in zip(obs_lines, obs_e, lines)]\n",
    "e_up = np.array([abs(e-d) for e, d in zip(e_up, dv)])\n",
    "e_down = np.array([abs(e-d) for e, d in zip(e_down, dv)])\n",
    "es = np.mean([e_up, e_down], axis=0)\n",
    "# print(len(es))\n",
    "print(dv, es)\n",
    "dv, dve = dv_average(dv, es)\n",
    "b_dvs.append(dv)\n",
    "b_dvs_e.append(dve)\n",
    "\n",
    "obs_lines = [gg_fit[4].mean*u.AA, gg_fit[5].mean*u.AA, gg_fit[6].mean*u.AA]\n",
    "obs_e = [fit_e[11]*u.AA, fit_e[14]*u.AA, fit_e[17]*u.AA]\n",
    "dv = [obs_lam.to(u.km/u.s,  equivalencies=u.doppler_optical(rest_lam*u.AA)).value for obs_lam, rest_lam in zip(obs_lines, lines)]\n",
    "\n",
    "e_up = [(obs_lam+e_lam).to(u.km/u.s,  equivalencies=u.doppler_optical(rest_lam*u.AA)).value for obs_lam, e_lam, rest_lam in zip(obs_lines, obs_e, lines)]\n",
    "e_down = [(obs_lam-e_lam).to(u.km/u.s,  equivalencies=u.doppler_optical(rest_lam*u.AA)).value for obs_lam, e_lam, rest_lam in zip(obs_lines, obs_e, lines)]\n",
    "e_up = np.array([abs(e-d) for e, d in zip(e_up, dv)])\n",
    "e_down = np.array([abs(e-d) for e, d in zip(e_down, dv)])\n",
    "es = np.mean([e_up, e_down], axis=0)\n",
    "# print(len(es))\n",
    "print(dv, es)\n",
    "dv, dve = dv_average(dv, es)\n",
    "b_dvs.append(dv)\n",
    "b_dvs_e.append(dve)\n",
    "\n",
    "print(b_dvs, b_dvs_e)"
   ]
  },
  {
   "cell_type": "markdown",
   "metadata": {},
   "source": [
    "Tada!"
   ]
  },
  {
   "cell_type": "markdown",
   "metadata": {},
   "source": [
    "Add the first one then find the dates for the second."
   ]
  },
  {
   "cell_type": "code",
   "execution_count": null,
   "metadata": {},
   "outputs": [],
   "source": [
    "fits.getheader(old_spec[0][:-3]+'fits')['EXPTIME']"
   ]
  },
  {
   "cell_type": "code",
   "execution_count": null,
   "metadata": {},
   "outputs": [],
   "source": [
    "date1, dv1, dve1 = old_dates[0], old_dvs[0], old_dves[0]"
   ]
  },
  {
   "cell_type": "code",
   "execution_count": null,
   "metadata": {},
   "outputs": [],
   "source": [
    "date1 += 1440/86400\n",
    "time1 = date1*24"
   ]
  },
  {
   "cell_type": "code",
   "execution_count": null,
   "metadata": {},
   "outputs": [],
   "source": [
    "all_t = np.append(time1,t_unnorm)\n",
    "all_dvs = np.append(dv1, dvs )\n",
    "all_dves = np.append(dve1, dves)\n",
    "aargs = np.argsort(all_t)\n",
    "all_t, all_dvs, all_dves = all_t[aargs], all_dvs[aargs], all_dves[aargs]"
   ]
  },
  {
   "cell_type": "code",
   "execution_count": null,
   "metadata": {},
   "outputs": [],
   "source": [
    "#frequency = np.linspace(1/5, 1/3, 100000)\n",
    "#power = LombScargle(all_t, all_dvs, all_dves, normalization='model').power(frequency)\n",
    "frequency, power = LombScargle(all_t, all_dvs, all_dves, normalization='model').autopower(minimum_frequency = 1/5, maximum_frequency = 1/3)\n",
    "period = 1/frequency[np.argmax(power)]\n",
    "print(period)\n",
    "plt.plot(1/frequency, power)\n",
    "#plt.xlim(2, 10)"
   ]
  },
  {
   "cell_type": "code",
   "execution_count": null,
   "metadata": {},
   "outputs": [],
   "source": [
    "plt.errorbar((all_t/period %1), all_dvs, yerr=all_dves, marker='o', ls='none')\n",
    "plt.errorbar((time1/period %1), dv1, yerr=dve1, marker='o', ls='none')"
   ]
  },
  {
   "cell_type": "markdown",
   "metadata": {},
   "source": [
    "Ok, now how about the other spectrum?"
   ]
  },
  {
   "cell_type": "code",
   "execution_count": null,
   "metadata": {},
   "outputs": [],
   "source": [
    "texp = 1440/86400\n",
    "test_1 = np.array([old_dates[1]+texp/2, old_dates[1]+texp*1.5 ])*24\n",
    "test_2 = test_1[::-1]\n",
    "plt.errorbar((all_t/period %1), all_dvs, yerr=all_dves, marker='o', ls='none')\n",
    "for test in [test_1, test_2]:\n",
    "    plt.errorbar((test/period %1), b_dvs, yerr=b_dvs_e, marker='o', ls='none')\n",
    "plt.show()\n",
    "for test in [test_1, test_2]:\n",
    "    frequency, power = LombScargle(np.append(all_t, test), np.append(all_dvs, b_dvs), np.append(all_dves, b_dvs_e), normalization='model').autopower(minimum_frequency = 1/5, maximum_frequency = 1/3)\n",
    "    period = 1/frequency[np.argmax(power)]\n",
    "    print(period)\n",
    "    plt.plot(1/frequency, power)\n",
    "    plt.show()\n",
    "        "
   ]
  },
  {
   "cell_type": "code",
   "execution_count": null,
   "metadata": {},
   "outputs": [],
   "source": [
    "b_times = [58189.097671+(720/86400), 58189.080295+(720/86400)] #checking eso archive\n",
    "b_days = np.array(b_times)*24\n"
   ]
  },
  {
   "cell_type": "code",
   "execution_count": null,
   "metadata": {},
   "outputs": [],
   "source": [
    "all_t1 = np.concatenate((b_days,all_t))\n",
    "all_dvs1 = np.concatenate((b_dvs, all_dvs))\n",
    "all_dves1 = np.concatenate((b_dvs_e, all_dves))\n",
    "aargs = np.argsort(all_t1)\n",
    "all_t1, all_dvs1, all_dves1 = all_t1[aargs], all_dvs1[aargs], all_dves1[aargs]"
   ]
  },
  {
   "cell_type": "code",
   "execution_count": null,
   "metadata": {},
   "outputs": [],
   "source": [
    "frequency, power = LombScargle(all_t1, all_dvs1, all_dves1, normalization='model').autopower(minimum_frequency = 1/5, maximum_frequency = 1/3)\n",
    "period = 1/frequency[np.argmax(power)]\n",
    "print(period)\n",
    "plt.plot(1/frequency, power)\n",
    "plt.axvline(period, ls='--', c='r')\n",
    "plt.show()\n",
    "frequency = np.linspace(1/5, 1/3, 100000)\n",
    "power = LombScargle(all_t1, all_dvs1, normalization='model').power(frequency)\n",
    "period = 1/frequency[np.argmax(power)]\n",
    "print(period)\n",
    "plt.plot(1/frequency, power)\n",
    "plt.show()"
   ]
  },
  {
   "cell_type": "code",
   "execution_count": null,
   "metadata": {},
   "outputs": [],
   "source": [
    "plt.errorbar((all_t1/period %1), all_dvs1, yerr=all_dves1, marker='o', ls='none')\n"
   ]
  },
  {
   "cell_type": "markdown",
   "metadata": {},
   "source": [
    "Save the Ca ii lines to file while we're here:"
   ]
  },
  {
   "cell_type": "code",
   "execution_count": null,
   "metadata": {},
   "outputs": [],
   "source": [
    "ca_dat = Table([(all_t1/24)*u.d, all_dvs1*u.km/u.s, all_dves1*u.km/u.s], names=['MJD', 'VELOCITY', 'ERROR'])\n",
    "ca_dat.write('ca_dvs.ecsv', format='ascii.ecsv', overwrite=True)"
   ]
  },
  {
   "cell_type": "markdown",
   "metadata": {},
   "source": [
    "Abs lines next...ditch the 2nd spectrum until I can reinstall reflex and do a proper stare reduction."
   ]
  },
  {
   "cell_type": "code",
   "execution_count": null,
   "metadata": {},
   "outputs": [],
   "source": [
    "\n",
    "    \n",
    "\n",
    "fitter = fitting.LevMarLSQFitter()\n",
    "\n",
    "halpha = 6562.77\n",
    "\n",
    "def tiedfunc(gg_init):\n",
    "    mean = gg_init.mean_1.value\n",
    "    return mean\n",
    "\n",
    "\n",
    "x = 6567.5\n",
    "w, f, e = np.loadtxt(old_spec[0], unpack=True, delimiter=',')\n",
    "\n",
    "#slines = get_shifted_lines(x, lines)\n",
    "mask1 = (w> 6400) & (w < 6450) | (w > 6650) & (w < 6800)\n",
    "mask2 = (w> 6400) & (w < 6800) \n",
    "w, f, e =  make_plot_spec(w, f,e , mask1, mask2)\n",
    "#plt.plot(w, f)\n",
    "#old_date = fits.getheader(s[:-3]+'fits')['MJD-OBS']\n",
    "#abs_dates.append(date)\n",
    "\n",
    "\n",
    "plt.figure() \n",
    "#, bounds={'amplitude':[-0.1, -0.3]}\n",
    "plt.axvline(halpha, c='r', ls='--')\n",
    "gg_init = models.Gaussian1D(-0.3, halpha,1.0)+ models.Gaussian1D(-0.4, halpha,0.5)+models.Gaussian1D(-0.2, halpha,30) + models.Const1D(1.0) \n",
    "\n",
    "gg_init.stddev_1.bounds = [0.1, 1.2]\n",
    "gg_init.stddev_0.bounds = [1.5,6]\n",
    "\n",
    "rest_lam = halpha*u.AA\n",
    "obs_lam = x*u.AA\n",
    "#dv = obs_lam.to(u.km/u.s,  equivalencies=u.doppler_optical(rest_lam))\n",
    "#h_guess = dv.to(u.AA, equivalencies=u.doppler_o_ptical(halpha*u.AA)).value\n",
    "h_guess = x  \n",
    "\n",
    "gg_init += models.Gaussian1D(1.0, h_guess,0.5)#, bounds={'mean':[h_guess-1, h_guess+1], 'stdev':[0.1, 3]})\n",
    "gg_init.mean_0.tied=tiedfunc\n",
    "gg_init.mean_2.tied=tiedfunc\n",
    "\n",
    "\n",
    "gg_fit = fitter(gg_init, w, f, weights=1/e, maxiter=100000)\n",
    "fit_e = np.sqrt(np.diag(fitter.fit_info['param_cov']))\n",
    "\n",
    "#print(gg_fit)\n",
    "#print(fit_e)\n",
    "\n",
    "plt.plot(w, f)\n",
    "plt.plot(w, gg_fit(w))\n",
    "plt.show()\n",
    "\n",
    "obs_lam = gg_fit[1].mean*u.AA\n",
    "#obs_e = [fit_e[2]*u.AA, fit_e[5]*u.AA, fit_e[8]*u.AA]\n",
    "dv = obs_line.to(u.km/u.s,  equivalencies=u.doppler_optical(halpha*u.AA)).value\n",
    "e_lam = fit_e[1]*u.AA\n",
    "e_up = (obs_lam+e_lam).to(u.km/u.s,  equivalencies=u.doppler_optical(halpha*u.AA)).value         \n",
    "e_down = (obs_lam-e_lam).to(u.km/u.s,  equivalencies=u.doppler_optical(halpha*u.AA)).value \n",
    "e_up = abs(e_up- dv)        \n",
    "e_down = abs(e_down-dv) \n",
    "es = np.mean([e_up, e_down])\n",
    "\n",
    "dv_a_old = dv\n",
    "dv_a_old_e = es\n",
    "\n",
    "\n",
    "em_line = gg_fit[4].mean*u.AA\n",
    "dv_em = em_line.to(u.km/u.s,  equivalencies=u.doppler_optical(halpha*u.AA)).value\n",
    "\n",
    "e_lam = fit_e[9]*u.AA\n",
    "e_up = (em_line+e_lam).to(u.km/u.s,  equivalencies=u.doppler_optical(halpha*u.AA)).value         \n",
    "e_down = (em_line-e_lam).to(u.km/u.s,  equivalencies=u.doppler_optical(halpha*u.AA)).value \n",
    "e_up = abs(e_up- dv_em)        \n",
    "e_down = abs(e_down-dv_em) \n",
    "es = np.mean([e_up, e_down])\n",
    "dv_em_old = dv_em\n",
    "dv_em_old_e = es\n"
   ]
  },
  {
   "cell_type": "code",
   "execution_count": null,
   "metadata": {},
   "outputs": [],
   "source": [
    "plt.errorbar(abs_dates, h_em, yerr=h_eme, marker='o', ls='none')\n",
    "plt.errorbar(t_unnorm/24, dvs, yerr=dves, marker='o', ls='none')"
   ]
  },
  {
   "cell_type": "markdown",
   "metadata": {},
   "source": [
    "Can we use the emission lines to correct the absorption lines?"
   ]
  },
  {
   "cell_type": "code",
   "execution_count": null,
   "metadata": {},
   "outputs": [],
   "source": [
    "#hem_dat = Table([(abs_dates)*u.d, h_em*u.km/u.s, h_eme*u.km/u.s], names=['MJD', 'VELOCITY', 'ERROR'])\n",
    "#hem_dat.write('hem_dvs.ecsv', format='ascii.ecsv', overwrite=True)"
   ]
  },
  {
   "cell_type": "code",
   "execution_count": null,
   "metadata": {},
   "outputs": [],
   "source": [
    "plt.errorbar((abs_dates/(period/24) %1), dvs_1, yerr=dvs_1e, ls='none', marker='o')\n",
    "plt.errorbar((date1/(period/24) %1), dv_a_old, yerr=dv_a_old_e, ls='none', marker='o')\n",
    "plt.errorbar((all_t1/period %1), all_dvs1, yerr=all_dves1, marker='o', ls='none')\n"
   ]
  },
  {
   "cell_type": "code",
   "execution_count": null,
   "metadata": {},
   "outputs": [],
   "source": [
    "plt.errorbar((abs_dates/(period/24) %1), h_em, yerr=h_eme, marker='o', ls='none')\n",
    "plt.errorbar((date1/(period/24) %1), dv_em_old, yerr=dv_em_old_e, ls='none', marker='o')\n"
   ]
  },
  {
   "cell_type": "code",
   "execution_count": null,
   "metadata": {},
   "outputs": [],
   "source": [
    "htime = np.append(date1, abs_dates)\n",
    "ha_em = np.append(dv_em_old, h_em)\n",
    "ha_eme = np.append(dv_em_old_e, h_eme)\n",
    "ha_ab = np.append(dv_a_old, dvs_1)\n",
    "ha_abe = np.append(dv_a_old_e, dvs_1e)\n",
    "ha_args = np.argsort(htime)\n",
    "htime, ha_em, ha_eme, ha_ab, ha_abe = htime[ha_args], ha_em[ha_args], ha_eme[ha_args], ha_ab[ha_args], ha_abe[ha_args]\n",
    "len(htime)"
   ]
  },
  {
   "cell_type": "code",
   "execution_count": null,
   "metadata": {},
   "outputs": [],
   "source": [
    "#plt.errorbar(htime, ha_em, yerr=ha_eme)\n",
    "plt.errorbar(htime, ha_ab, yerr=ha_abe)\n",
    "\n",
    "plt.xlim(58600, 58605)"
   ]
  },
  {
   "cell_type": "code",
   "execution_count": null,
   "metadata": {},
   "outputs": [],
   "source": [
    "hem_dat = Table([htime*u.d, ha_em*u.km/u.s, ha_eme*u.km/u.s], names=['MJD', 'VELOCITY', 'ERROR'])\n",
    "hem_dat.write('dv_lists/ha_em_dvs.ecsv', format='ascii.ecsv', overwrite=True)"
   ]
  },
  {
   "cell_type": "code",
   "execution_count": null,
   "metadata": {},
   "outputs": [],
   "source": [
    "hab_dat = Table([htime*u.d, ha_ab*u.km/u.s, ha_abe*u.km/u.s], names=['MJD', 'VELOCITY', 'ERROR'])\n",
    "hab_dat.write('dv_lists/ha_ab_dvs.ecsv', format='ascii.ecsv', overwrite=True)"
   ]
  },
  {
   "cell_type": "markdown",
   "metadata": {},
   "source": [
    "New idea- what if I remove the h alpha core and fit that?"
   ]
  },
  {
   "cell_type": "code",
   "execution_count": null,
   "metadata": {},
   "outputs": [],
   "source": [
    "fitter = fitting.LevMarLSQFitter()\n",
    "blank_dates = []\n",
    "blank_dvs = []\n",
    "blank_es = []\n",
    "#abs_dvs = []\n",
    "#abs_dves = []\n",
    "#abs_dates = []\n",
    "halpha = 6562.77\n",
    "#h_em = []\n",
    "#h_eme = []\n",
    "#dvs_1 = []\n",
    "#dvs_1e = []\n",
    "#dvs_2 = []\n",
    "\n",
    "#dvs_3 = []\n",
    "\n",
    "def tiedfunc0(gg_init):\n",
    "    mean = gg_init.mean_0.value\n",
    "    return mean\n",
    "\n",
    "for s, x in zip(all_sp['FILENAME'], all_sp['Xs']):\n",
    "#for s, x in zip(sp_lines, xs):\n",
    "    print(s)\n",
    "    w, f, e = np.loadtxt(s, unpack=True, delimiter=',')\n",
    "    slines = get_shifted_lines(x, lines)\n",
    "    mask1 = (w> 6400) & (w < 6450) | (w > 6650) & (w < 6800)\n",
    "    mask2 = (w> 6400) & (w < 6800) \n",
    "    w, f, e =  make_plot_spec(w, f,e , mask1, mask2)\n",
    "    #plt.plot(w, f)\n",
    "    core_mask = (w < halpha-20) | (w > halpha+20)\n",
    "    w, f, e  = w[core_mask], f[core_mask], e[core_mask]\n",
    "    date = fits.getheader(s[:-3]+'fits')['MJD-OBS']\n",
    "    blank_dates.append((date+150/86400))\n",
    "    \n",
    "    \n",
    "    plt.figure() \n",
    "  #, bounds={'amplitude':[-0.1, -0.3]}\n",
    "   # plt.axvline(halpha, c='r', ls='--')\n",
    "    gg_init = models.Gaussian1D(-0.2, halpha,30.0)+models.Gaussian1D(-0.3, halpha,5) + models.Const1D(1.0) \n",
    "\n",
    "  #  gg_init.stddev_0.bounds = [1.5,6]\n",
    "    \n",
    "    \n",
    "    gg_init.mean_1.tied=tiedfunc0\n",
    "\n",
    "    gg_fit = fitter(gg_init, w, f, weights=1/e, maxiter=100000)\n",
    "    \n",
    "    plt.plot(w,f)\n",
    "    plt.plot(w, gg_fit(w))\n",
    "    plt.show()\n",
    "    \n",
    "    #print(gg_fit)\n",
    "    #print(fitter.fit_info['param_cov'])\n",
    "    obs_lam = gg_fit[1].mean*u.AA\n",
    "    #abs_dates.append(date)\n",
    "    dv = obs_lam.to(u.km/u.s,  equivalencies=u.doppler_optical(halpha*u.AA)).value\n",
    "    blank_dvs.append(dv)\n",
    "     \n",
    "    #em_line = gg_fit[4].mean*u.AA\n",
    "  #  dv_em = em_line.to(u.km/u.s,  equivalencies=u.doppler_optical(halpha*u.AA)).value\n",
    "   # h_em.append(dv_em)\n",
    "    \n",
    "    if fitter.fit_info['param_cov'] is None:\n",
    "        blank_es.append(15)\n",
    "    #    h_eme.append(15)\n",
    "    else:\n",
    "       # print('yes')\n",
    "        fit_e = np.sqrt(np.diag(fitter.fit_info['param_cov']))\n",
    "        #print(len(fit_e))\n",
    "       # print (fitter.fit_info)\n",
    "        e_lam = fit_e[1]*u.AA\n",
    "        e_up = (obs_lam+e_lam).to(u.km/u.s,  equivalencies=u.doppler_optical(halpha*u.AA)).value         \n",
    "        e_down = (obs_lam-e_lam).to(u.km/u.s,  equivalencies=u.doppler_optical(halpha*u.AA)).value \n",
    "        e_up = abs(e_up- dv)        \n",
    "        e_down = abs(e_down-dv) \n",
    "        es = np.mean([e_up, e_down])\n",
    "        blank_es.append(es)\n",
    "        \n",
    "      #  e_lam = fit_e[9]*u.AA\n",
    "      #  e_up = (em_line+e_lam).to(u.km/u.s,  equivalencies=u.doppler_optical(halpha*u.AA)).value         \n",
    "      #  e_down = (em_line-e_lam).to(u.km/u.s,  equivalencies=u.doppler_optical(halpha*u.AA)).value \n",
    "      #  e_up = abs(e_up- dv_em)        \n",
    "      #  e_down = abs(e_down-dv_em) \n",
    "      #  es = np.mean([e_up, e_down])\n",
    "       # h_eme.append(es)\n",
    "        \n",
    "        "
   ]
  },
  {
   "cell_type": "code",
   "execution_count": null,
   "metadata": {},
   "outputs": [],
   "source": [
    "plt.errorbar(blank_dates, blank_dvs, yerr=blank_es,marker='o', ls='none')\n",
    "plt.show()\n",
    "plt.errorbar(((np.array(blank_dates)*24/4.23) %1), blank_dvs, yerr=blank_es,marker='o', ls='none')"
   ]
  },
  {
   "cell_type": "markdown",
   "metadata": {},
   "source": [
    "Nope! Worth a try"
   ]
  },
  {
   "cell_type": "code",
   "execution_count": null,
   "metadata": {},
   "outputs": [],
   "source": []
  }
 ],
 "metadata": {
  "kernelspec": {
   "display_name": "Python 3",
   "language": "python",
   "name": "python3"
  },
  "language_info": {
   "codemirror_mode": {
    "name": "ipython",
    "version": 3
   },
   "file_extension": ".py",
   "mimetype": "text/x-python",
   "name": "python",
   "nbconvert_exporter": "python",
   "pygments_lexer": "ipython3",
   "version": "3.7.5"
  }
 },
 "nbformat": 4,
 "nbformat_minor": 4
}
