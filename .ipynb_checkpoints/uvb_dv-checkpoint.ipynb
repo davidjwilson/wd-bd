{
 "cells": [
  {
   "cell_type": "markdown",
   "metadata": {},
   "source": [
    "Can we get dvs from the UVB balmer lines?"
   ]
  },
  {
   "cell_type": "code",
   "execution_count": 2,
   "metadata": {},
   "outputs": [],
   "source": [
    "#first get the python modules we need\n",
    "import numpy as np\n",
    "import matplotlib.pyplot as plt\n",
    "import astropy.io.fits as fits\n",
    "import os\n",
    "import glob\n",
    "from astropy.convolution import convolve, Box1DKernel\n",
    "from astropy.table import Table\n",
    "import astropy.units as u\n",
    "from astropy.modeling import models, fitting\n",
    "\n",
    "\n",
    "#matplotlib set up\n",
    "%matplotlib inline\n",
    "from matplotlib import rcParams\n",
    "rcParams[\"figure.figsize\"] = (14, 5)\n",
    "rcParams[\"font.size\"] = 20"
   ]
  },
  {
   "cell_type": "code",
   "execution_count": 3,
   "metadata": {},
   "outputs": [
    {
     "data": {
      "text/plain": [
       "33"
      ]
     },
     "execution_count": 3,
     "metadata": {},
     "output_type": "execute_result"
    }
   ],
   "source": [
    "path = '/home/david/work/1144_lt/spectra/nicola_2/WDJ114404.76+052951.77/' #note the / on the end\n",
    "\n",
    "uvbpath = path + 'UVB/'\n",
    "sp = glob.glob(uvbpath+'*.csv')\n",
    "merge = glob.glob(uvbpath+'*merged.csv')[0]\n",
    "sp.remove(merge)\n",
    "len(sp)"
   ]
  },
  {
   "cell_type": "code",
   "execution_count": 4,
   "metadata": {},
   "outputs": [],
   "source": [
    "smooth = 7"
   ]
  },
  {
   "cell_type": "code",
   "execution_count": 5,
   "metadata": {},
   "outputs": [
    {
     "data": {
      "text/plain": [
       "\"\\nfor s in sp:\\n        w, f, e = np.loadtxt(s, unpack=True, delimiter=',')\\n        f = convolve(f,Box1DKernel(smooth))\\n        plt.plot(w,f)\\n        \\n    \\n#plt.xlim(4800, 4900)\\nplt.ylim(0, 1.5e-15)\""
      ]
     },
     "execution_count": 5,
     "metadata": {},
     "output_type": "execute_result"
    }
   ],
   "source": [
    "\"\"\"\n",
    "for s in sp:\n",
    "        w, f, e = np.loadtxt(s, unpack=True, delimiter=',')\n",
    "        f = convolve(f,Box1DKernel(smooth))\n",
    "        plt.plot(w,f)\n",
    "        \n",
    "    \n",
    "#plt.xlim(4800, 4900)\n",
    "plt.ylim(0, 1.5e-15)\"\"\""
   ]
  },
  {
   "cell_type": "markdown",
   "metadata": {},
   "source": [
    "Cross-correlation? Find the best spectrum..."
   ]
  },
  {
   "cell_type": "code",
   "execution_count": 6,
   "metadata": {},
   "outputs": [],
   "source": [
    "#w, f, e = np.loadtxt(sp[0], unpack=True, delimiter=',')\n",
    "#f = convolve(f,Box1DKernel(smooth))\n",
    "#plt.xlim(2900, 3100)\n",
    "#plt.plot(w,f)\n",
    "#plt.plot(w,e)\n",
    "#cut everything over 3100"
   ]
  },
  {
   "cell_type": "code",
   "execution_count": 7,
   "metadata": {},
   "outputs": [
    {
     "name": "stdout",
     "output_type": "stream",
     "text": [
      "0 31.619976002448297\n",
      "1 31.576830516451164\n",
      "2 28.28366827337544\n",
      "3 28.49310885019313\n",
      "4 33.79534688408572\n",
      "5 27.525581022104042\n",
      "6 31.017271316189046\n",
      "7 32.35550805975043\n",
      "8 19.371157142642446\n",
      "9 32.74539052428673\n",
      "10 30.570879635594842\n",
      "11 30.393548814404525\n",
      "12 30.219876049253706\n",
      "13 19.837871485188998\n",
      "14 31.18705634954776\n",
      "15 30.162135093453415\n",
      "16 30.482139597132893\n",
      "17 19.066823890030772\n",
      "18 18.728737669254713\n",
      "19 29.682952346007696\n",
      "20 31.308074681811647\n",
      "21 30.052238440847646\n",
      "22 33.17204503395703\n",
      "23 30.29084835097676\n",
      "24 28.104290157859495\n",
      "25 30.80866394317895\n",
      "26 31.696173721710785\n",
      "27 34.09249560150426\n",
      "28 30.657555509351347\n",
      "29 29.12130765694037\n",
      "30 29.459508445903456\n",
      "31 29.770061788375905\n",
      "32 30.154251293118975\n"
     ]
    }
   ],
   "source": [
    "for i, s in enumerate(sp):\n",
    "    w, f, e = np.loadtxt(s, unpack=True, delimiter=',')\n",
    "    print(i, np.median(f[w>3100]/e[w>3100]))"
   ]
  },
  {
   "cell_type": "code",
   "execution_count": 8,
   "metadata": {},
   "outputs": [],
   "source": [
    "best = sp[27]"
   ]
  },
  {
   "cell_type": "code",
   "execution_count": 9,
   "metadata": {},
   "outputs": [],
   "source": [
    "from PyAstronomy.pyasl import crosscorrRV  as ccrv"
   ]
  },
  {
   "cell_type": "code",
   "execution_count": 10,
   "metadata": {},
   "outputs": [],
   "source": [
    "tw, tf, te = np.loadtxt(sp[27], unpack=True, delimiter=',')\n",
    "tw, tf, te = tw[tw>3100], tf[tw >3100], te[tw >3100]\n",
    "#tf = convolve(tf,Box1DKernel(smooth))"
   ]
  },
  {
   "cell_type": "code",
   "execution_count": 11,
   "metadata": {},
   "outputs": [
    {
     "data": {
      "text/plain": [
       "\"dates  = []\\ndvs = []\\nfor s in sp:\\n    date = fits.getheader(s[:-3]+'fits')['MJD-OBS'] + (150/86400)\\n    dates.append(date)\\n    if s == sp[27]:\\n        dvs.append(0.0)\\n    else:\\n        w, f, e = np.loadtxt(s, unpack=True, delimiter=',')\\n        mask = (w >3100)\\n        w, f, e = w[mask], f[mask], e[mask]\\n        f = convolve(f,Box1DKernel(smooth))\\n        rv, cc = ccrv(w, f, tw, tf, -100., 100., 1, skipedge=100)\\n        dv = rv[np.argmax(cc)]\\n        dvs.append(dv)\\n        plt.plot(rv, cc)\\n\\n#plt.scatter(dates, dvs)\""
      ]
     },
     "execution_count": 11,
     "metadata": {},
     "output_type": "execute_result"
    }
   ],
   "source": [
    "\n",
    "\"\"\"dates  = []\n",
    "dvs = []\n",
    "for s in sp:\n",
    "    date = fits.getheader(s[:-3]+'fits')['MJD-OBS'] + (150/86400)\n",
    "    dates.append(date)\n",
    "    if s == sp[27]:\n",
    "        dvs.append(0.0)\n",
    "    else:\n",
    "        w, f, e = np.loadtxt(s, unpack=True, delimiter=',')\n",
    "        mask = (w >3100)\n",
    "        w, f, e = w[mask], f[mask], e[mask]\n",
    "        f = convolve(f,Box1DKernel(smooth))\n",
    "        rv, cc = ccrv(w, f, tw, tf, -100., 100., 1, skipedge=100)\n",
    "        dv = rv[np.argmax(cc)]\n",
    "        dvs.append(dv)\n",
    "        plt.plot(rv, cc)\n",
    "\n",
    "#plt.scatter(dates, dvs)\"\"\"\n",
    "    "
   ]
  },
  {
   "cell_type": "markdown",
   "metadata": {},
   "source": [
    "Ok that didn't work, looks like I need to fit each line."
   ]
  },
  {
   "cell_type": "code",
   "execution_count": 12,
   "metadata": {},
   "outputs": [],
   "source": [
    "fitter = fitting.LevMarLSQFitter()\n",
    "\n",
    "def tiedfunc0(gg_init):\n",
    "    mean = gg_init.mean_0.value\n",
    "    return mean\n",
    "\n",
    "lines = np.array([486.13615, 434.0462,410.174, 397.0072, 388.9049, 383.5384])\n",
    "lines *= 10\n",
    "#plt.figure(figsize=(6, 10))\n",
    "#for line in lines:\n",
    " #   mask = (tw > line-30) & (tw < line+30)\n",
    "  #  x = np.arange(len(tw[mask]))\n",
    "  #  plt.plot(x, (tf[mask]-np.max(tf[mask]))*1e16)\n",
    "  #  gg_init = models.Gaussian1D(-1.0, 0,10)+ models.Gaussian1D(-1.5, 0,0.5)+models.Gaussian1D(-0.5, 0,50)#+models.Const1D(1.0)\n",
    "   # gg_init.mean_1.tied=tiedfunc0\n",
    "   # gg_init.mean_2.tied=tiedfunc0\n",
    "   # gg_fit = fitter(gg_init, x, (tf[mask]-np.max(tf[mask]))*1e16)\n",
    "   # plt.plot(x, gg_fit(x))"
   ]
  },
  {
   "cell_type": "markdown",
   "metadata": {},
   "source": [
    "Looks like we need to normalize it first..."
   ]
  },
  {
   "cell_type": "code",
   "execution_count": 13,
   "metadata": {},
   "outputs": [
    {
     "data": {
      "text/plain": [
       "[<matplotlib.lines.Line2D at 0x7f8acd651d50>]"
      ]
     },
     "execution_count": 13,
     "metadata": {},
     "output_type": "execute_result"
    },
    {
     "data": {
      "image/png": "[encoded data removed]",
      "text/plain": [
       "<Figure size 432x288 with 1 Axes>"
      ]
     },
     "metadata": {
      "needs_background": "light"
     },
     "output_type": "display_data"
    }
   ],
   "source": [
    "plt.plot(tw, tf)"
   ]
  },
  {
   "cell_type": "code",
   "execution_count": 14,
   "metadata": {},
   "outputs": [
    {
     "data": {
      "text/plain": [
       "'/home/david/work/1144_lt/spectra/nicola_2/WDJ114404.76+052951.77/UVB/WDJ114404.76+052951.77_SCI_SLIT_FLUX_MERGE1D_UVB_13.csv'"
      ]
     },
     "execution_count": 14,
     "metadata": {},
     "output_type": "execute_result"
    }
   ],
   "source": [
    "sp[27]"
   ]
  },
  {
   "cell_type": "code",
   "execution_count": 15,
   "metadata": {},
   "outputs": [],
   "source": [
    "cregions = [3700, 3809, 3853, 3856,3920,3930,4022,4035,4185, 4205,4430,4760,4990,5540]\n",
    "\n",
    "def mask_maker(x, pairs, include=True):\n",
    "    \"\"\"\n",
    "    creates a mask for a spectrum that excudes between pairs from an array\n",
    "    \"\"\"\n",
    "    b = pairs[::2]\n",
    "    r = pairs[1::2]\n",
    "    C = np.zeros_like(x,dtype='bool')\n",
    "    for i in range(len(b)):\n",
    "        C |= (x>b[i])&(x<r[i])\n",
    "    if include:\n",
    "        return ~C\n",
    "    else:\n",
    "        return C\n",
    "\n",
    "#mask = mask_maker(tw, cregions, include=False)"
   ]
  },
  {
   "cell_type": "code",
   "execution_count": 16,
   "metadata": {},
   "outputs": [
    {
     "data": {
      "text/plain": [
       "'tw1, tf1 = tw[mask], tf[mask] \\nn_init = models.Polynomial1D(5)\\nn_fit = fitter(n_init, tw1, tf1)\\nplt.plot(tw, tf)\\nplt.plot(tw, n_fit(tw))'"
      ]
     },
     "execution_count": 16,
     "metadata": {},
     "output_type": "execute_result"
    }
   ],
   "source": [
    "\"\"\"tw1, tf1 = tw[mask], tf[mask] \n",
    "n_init = models.Polynomial1D(5)\n",
    "n_fit = fitter(n_init, tw1, tf1)\n",
    "plt.plot(tw, tf)\n",
    "plt.plot(tw, n_fit(tw))\"\"\""
   ]
  },
  {
   "cell_type": "code",
   "execution_count": 17,
   "metadata": {},
   "outputs": [
    {
     "data": {
      "text/plain": [
       "'plt.figure(figsize=(6, 10))\\nfor line in lines:\\n    mask = (tw > line-30) & (tw < line+30)\\n    x = np.arange(len(tw[mask]))\\n    nf = tf[mask]/n_fit(tw)[mask]\\n    plt.plot(x, nf)\\n    mid = len(x)/2\\n    gg_init = models.Gaussian1D(-0.3, mid,10)+ models.Gaussian1D(-0.5, mid,10)+models.Gaussian1D(-0.2, mid,50)+models.Const1D(1.0)\\n    gg_init.mean_1.tied=tiedfunc0\\n    gg_init.mean_2.tied=tiedfunc0\\n    gg_fit = fitter(gg_init, x, nf)\\n    plt.plot(x, gg_fit(x))'"
      ]
     },
     "execution_count": 17,
     "metadata": {},
     "output_type": "execute_result"
    }
   ],
   "source": [
    "\"\"\"plt.figure(figsize=(6, 10))\n",
    "for line in lines:\n",
    "    mask = (tw > line-30) & (tw < line+30)\n",
    "    x = np.arange(len(tw[mask]))\n",
    "    nf = tf[mask]/n_fit(tw)[mask]\n",
    "    plt.plot(x, nf)\n",
    "    mid = len(x)/2\n",
    "    gg_init = models.Gaussian1D(-0.3, mid,10)+ models.Gaussian1D(-0.5, mid,10)+models.Gaussian1D(-0.2, mid,50)+models.Const1D(1.0)\n",
    "    gg_init.mean_1.tied=tiedfunc0\n",
    "    gg_init.mean_2.tied=tiedfunc0\n",
    "    gg_fit = fitter(gg_init, x, nf)\n",
    "    plt.plot(x, gg_fit(x))\"\"\""
   ]
  },
  {
   "cell_type": "code",
   "execution_count": 18,
   "metadata": {},
   "outputs": [
    {
     "data": {
      "text/plain": [
       "\"#plt.figure(figsize=(6, 10))\\ndvs = []\\nfor i, line in enumerate(lines):\\n    plt.subplot(2,3, i+1)\\n    mask = (tw > line-30) & (tw < line+30)\\n    nw = tw[mask]\\n    nf = tf[mask]/n_fit(tw)[mask]\\n    plt.plot(nw, nf)\\n    gg_init = models.Gaussian1D(-0.3, line,10)+ models.Gaussian1D(-0.5, line,5)+models.Const1D(1.0)\\n    if i < 3:\\n        gg_init += models.Gaussian1D(-0.2, line,50)\\n        gg_init.mean_1.tied=tiedfunc0\\n        gg_init.mean_3.tied=tiedfunc0\\n    else:\\n        gg_init.mean_1.tied=tiedfunc0\\n    gg_fit = fitter(gg_init, nw, nf, maxiter=1000000)\\n    plt.plot(nw, gg_fit(nw))\\n    dv = (gg_fit[0].mean*u.AA).to(u.km/u.s,  equivalencies=u.doppler_optical(line*u.AA)).value\\n    fit_e = np.sqrt(np.diag(fitter.fit_info['param_cov']))\\n   # print (gg_fit)\\n    dvs.append(dv)\\nprint(dvs)\\nprint(np.mean(dvs))\\nprint(np.median(dvs))\\nprint(np.std(dvs))\""
      ]
     },
     "execution_count": 18,
     "metadata": {},
     "output_type": "execute_result"
    }
   ],
   "source": [
    "\"\"\"#plt.figure(figsize=(6, 10))\n",
    "dvs = []\n",
    "for i, line in enumerate(lines):\n",
    "    plt.subplot(2,3, i+1)\n",
    "    mask = (tw > line-30) & (tw < line+30)\n",
    "    nw = tw[mask]\n",
    "    nf = tf[mask]/n_fit(tw)[mask]\n",
    "    plt.plot(nw, nf)\n",
    "    gg_init = models.Gaussian1D(-0.3, line,10)+ models.Gaussian1D(-0.5, line,5)+models.Const1D(1.0)\n",
    "    if i < 3:\n",
    "        gg_init += models.Gaussian1D(-0.2, line,50)\n",
    "        gg_init.mean_1.tied=tiedfunc0\n",
    "        gg_init.mean_3.tied=tiedfunc0\n",
    "    else:\n",
    "        gg_init.mean_1.tied=tiedfunc0\n",
    "    gg_fit = fitter(gg_init, nw, nf, maxiter=1000000)\n",
    "    plt.plot(nw, gg_fit(nw))\n",
    "    dv = (gg_fit[0].mean*u.AA).to(u.km/u.s,  equivalencies=u.doppler_optical(line*u.AA)).value\n",
    "    fit_e = np.sqrt(np.diag(fitter.fit_info['param_cov']))\n",
    "   # print (gg_fit)\n",
    "    dvs.append(dv)\n",
    "print(dvs)\n",
    "print(np.mean(dvs))\n",
    "print(np.median(dvs))\n",
    "print(np.std(dvs))\"\"\""
   ]
  },
  {
   "cell_type": "code",
   "execution_count": 34,
   "metadata": {},
   "outputs": [],
   "source": [
    "fit_ranges = [[4600, 5500],[4200, 4500], [4025,4220], [3920,4040],[3855,3930], [3750,3865]]\n",
    "cregions = [3750, 3809, 3853, 3856,3920,3930,4022,4035,4185, 4205,4430,4760,4990,5500]\n",
    "nmasks = [[4760,4990],[4205,4430],[4035,4185],[3930,4022],[3856,3920],[3853, 3856],[3750, 3809]]"
   ]
  },
  {
   "cell_type": "code",
   "execution_count": 32,
   "metadata": {},
   "outputs": [],
   "source": [
    "def make_plot_spec(w, f, e, mask1, mask2): #cuts spectrum down to the bit to plot\n",
    "    #mask = (w > 8450) & (w < 8480) | (w > 8520) & (w <8540) | (w > 8560) & (w< 8660) | (w > 8680) & (w < 8700) #mask out emmission lines\n",
    "    w1, f1 = w[mask1], f[mask1]\n",
    "    n_init = models.Polynomial1D(3)\n",
    "    n_fit = fitter(n_init, w1, f1)\n",
    "    #mask = (w > 8450) & (w < 8700)\n",
    "    w1, f1, e1 = w[mask2], f[mask2], e[mask2]\n",
    "    nf = f1/n_fit(w1)\n",
    "    ne = e1/n_fit(w1)\n",
    "    smooth = 7\n",
    "    nf = convolve(nf,Box1DKernel(smooth))\n",
    "    ne = convolve(ne,Box1DKernel(smooth))/smooth**0.5\n",
    "    return w1,nf, ne\n",
    "    \n",
    "    \n",
    "def dv_average(dvs, es):\n",
    "    \"\"\"\n",
    "    Returns a variance-weighted dv with standard error of the weighted mean (variance weights, scale corrected).\n",
    "    \n",
    "    \"\"\"\n",
    "    weights = 1 / (es**2)\n",
    "    dv = np.average(dvs, weights = weights)\n",
    "    var = 1 / np.sum(weights)\n",
    "    rcs = np.sum((((dv - dvs)**2) * weights)) / (len(dvs)-1) #reduced chi-squared\n",
    "    error = (var * rcs)**0.5\n",
    "    return dv, error"
   ]
  },
  {
   "cell_type": "code",
   "execution_count": 33,
   "metadata": {},
   "outputs": [
    {
     "ename": "TypeError",
     "evalue": "Improper input: N=4 must not exceed M=0",
     "output_type": "error",
     "traceback": [
      "\u001b[0;31m---------------------------------------------------------------------------\u001b[0m",
      "\u001b[0;31mTypeError\u001b[0m                                 Traceback (most recent call last)",
      "\u001b[0;32m<ipython-input-33-313cb4554246>\u001b[0m in \u001b[0;36m<module>\u001b[0;34m\u001b[0m\n\u001b[1;32m      8\u001b[0m     \u001b[0;31m#mask1 = mask_maker(tw, cregions, include=False)\u001b[0m\u001b[0;34m\u001b[0m\u001b[0;34m\u001b[0m\u001b[0;34m\u001b[0m\u001b[0m\n\u001b[1;32m      9\u001b[0m \u001b[0;34m\u001b[0m\u001b[0m\n\u001b[0;32m---> 10\u001b[0;31m     \u001b[0mnw\u001b[0m\u001b[0;34m,\u001b[0m \u001b[0mnf\u001b[0m\u001b[0;34m,\u001b[0m \u001b[0mne\u001b[0m \u001b[0;34m=\u001b[0m \u001b[0mmake_balmer_spec\u001b[0m\u001b[0;34m(\u001b[0m\u001b[0mtw\u001b[0m\u001b[0;34m,\u001b[0m \u001b[0mtf\u001b[0m\u001b[0;34m,\u001b[0m \u001b[0mte\u001b[0m\u001b[0;34m,\u001b[0m \u001b[0mmask2\u001b[0m\u001b[0;34m)\u001b[0m\u001b[0;34m\u001b[0m\u001b[0;34m\u001b[0m\u001b[0m\n\u001b[0m\u001b[1;32m     11\u001b[0m     \u001b[0mplt\u001b[0m\u001b[0;34m.\u001b[0m\u001b[0mplot\u001b[0m\u001b[0;34m(\u001b[0m\u001b[0mnw\u001b[0m\u001b[0;34m,\u001b[0m \u001b[0mnf\u001b[0m\u001b[0;34m)\u001b[0m\u001b[0;34m\u001b[0m\u001b[0;34m\u001b[0m\u001b[0m\n\u001b[1;32m     12\u001b[0m     \u001b[0mgg_init\u001b[0m \u001b[0;34m=\u001b[0m \u001b[0mmodels\u001b[0m\u001b[0;34m.\u001b[0m\u001b[0mGaussian1D\u001b[0m\u001b[0;34m(\u001b[0m\u001b[0;34m-\u001b[0m\u001b[0;36m0.3\u001b[0m\u001b[0;34m,\u001b[0m \u001b[0mline\u001b[0m\u001b[0;34m,\u001b[0m\u001b[0;36m10\u001b[0m\u001b[0;34m)\u001b[0m\u001b[0;34m+\u001b[0m \u001b[0mmodels\u001b[0m\u001b[0;34m.\u001b[0m\u001b[0mGaussian1D\u001b[0m\u001b[0;34m(\u001b[0m\u001b[0;34m-\u001b[0m\u001b[0;36m0.5\u001b[0m\u001b[0;34m,\u001b[0m \u001b[0mline\u001b[0m\u001b[0;34m,\u001b[0m\u001b[0;36m5\u001b[0m\u001b[0;34m)\u001b[0m\u001b[0;34m+\u001b[0m\u001b[0mmodels\u001b[0m\u001b[0;34m.\u001b[0m\u001b[0mConst1D\u001b[0m\u001b[0;34m(\u001b[0m\u001b[0;36m1.0\u001b[0m\u001b[0;34m)\u001b[0m\u001b[0;34m\u001b[0m\u001b[0;34m\u001b[0m\u001b[0m\n",
      "\u001b[0;32m<ipython-input-32-e56be9edf3ff>\u001b[0m in \u001b[0;36mmake_balmer_spec\u001b[0;34m(w, f, e, mask2)\u001b[0m\n\u001b[1;32m      5\u001b[0m     \u001b[0mw1\u001b[0m\u001b[0;34m,\u001b[0m \u001b[0mf1\u001b[0m \u001b[0;34m=\u001b[0m \u001b[0mw\u001b[0m\u001b[0;34m[\u001b[0m\u001b[0mmask1\u001b[0m\u001b[0;34m]\u001b[0m\u001b[0;34m,\u001b[0m \u001b[0mf\u001b[0m\u001b[0;34m[\u001b[0m\u001b[0mmask1\u001b[0m\u001b[0;34m]\u001b[0m\u001b[0;34m\u001b[0m\u001b[0;34m\u001b[0m\u001b[0m\n\u001b[1;32m      6\u001b[0m     \u001b[0mn_init\u001b[0m \u001b[0;34m=\u001b[0m \u001b[0mmodels\u001b[0m\u001b[0;34m.\u001b[0m\u001b[0mPolynomial1D\u001b[0m\u001b[0;34m(\u001b[0m\u001b[0;36m3\u001b[0m\u001b[0;34m)\u001b[0m\u001b[0;34m\u001b[0m\u001b[0;34m\u001b[0m\u001b[0m\n\u001b[0;32m----> 7\u001b[0;31m     \u001b[0mn_fit\u001b[0m \u001b[0;34m=\u001b[0m \u001b[0mfitter\u001b[0m\u001b[0;34m(\u001b[0m\u001b[0mn_init\u001b[0m\u001b[0;34m,\u001b[0m \u001b[0mw1\u001b[0m\u001b[0;34m,\u001b[0m \u001b[0mf1\u001b[0m\u001b[0;34m)\u001b[0m\u001b[0;34m\u001b[0m\u001b[0;34m\u001b[0m\u001b[0m\n\u001b[0m\u001b[1;32m      8\u001b[0m     \u001b[0;31m#mask = (w > 8450) & (w < 8700)\u001b[0m\u001b[0;34m\u001b[0m\u001b[0;34m\u001b[0m\u001b[0;34m\u001b[0m\u001b[0m\n\u001b[1;32m      9\u001b[0m     \u001b[0;31m#w1, f1, e1 = w[mask2], f[mask2], e[mask2]\u001b[0m\u001b[0;34m\u001b[0m\u001b[0;34m\u001b[0m\u001b[0;34m\u001b[0m\u001b[0m\n",
      "\u001b[0;32m~/anaconda3/lib/python3.7/site-packages/astropy/modeling/fitting.py\u001b[0m in \u001b[0;36mwrapper\u001b[0;34m(self, model, x, y, z, **kwargs)\u001b[0m\n\u001b[1;32m    175\u001b[0m         \u001b[0;32melse\u001b[0m\u001b[0;34m:\u001b[0m\u001b[0;34m\u001b[0m\u001b[0;34m\u001b[0m\u001b[0m\n\u001b[1;32m    176\u001b[0m \u001b[0;34m\u001b[0m\u001b[0m\n\u001b[0;32m--> 177\u001b[0;31m             \u001b[0;32mreturn\u001b[0m \u001b[0mfunc\u001b[0m\u001b[0;34m(\u001b[0m\u001b[0mself\u001b[0m\u001b[0;34m,\u001b[0m \u001b[0mmodel\u001b[0m\u001b[0;34m,\u001b[0m \u001b[0mx\u001b[0m\u001b[0;34m,\u001b[0m \u001b[0my\u001b[0m\u001b[0;34m,\u001b[0m \u001b[0mz\u001b[0m\u001b[0;34m=\u001b[0m\u001b[0mz\u001b[0m\u001b[0;34m,\u001b[0m \u001b[0;34m**\u001b[0m\u001b[0mkwargs\u001b[0m\u001b[0;34m)\u001b[0m\u001b[0;34m\u001b[0m\u001b[0;34m\u001b[0m\u001b[0m\n\u001b[0m\u001b[1;32m    178\u001b[0m \u001b[0;34m\u001b[0m\u001b[0m\n\u001b[1;32m    179\u001b[0m     \u001b[0;32mreturn\u001b[0m \u001b[0mwrapper\u001b[0m\u001b[0;34m\u001b[0m\u001b[0;34m\u001b[0m\u001b[0m\n",
      "\u001b[0;32m~/anaconda3/lib/python3.7/site-packages/astropy/modeling/fitting.py\u001b[0m in \u001b[0;36m__call__\u001b[0;34m(self, model, x, y, z, weights, maxiter, acc, epsilon, estimate_jacobian)\u001b[0m\n\u001b[1;32m    883\u001b[0m             \u001b[0mself\u001b[0m\u001b[0;34m.\u001b[0m\u001b[0mobjective_function\u001b[0m\u001b[0;34m,\u001b[0m \u001b[0minit_values\u001b[0m\u001b[0;34m,\u001b[0m \u001b[0margs\u001b[0m\u001b[0;34m=\u001b[0m\u001b[0mfarg\u001b[0m\u001b[0;34m,\u001b[0m \u001b[0mDfun\u001b[0m\u001b[0;34m=\u001b[0m\u001b[0mdfunc\u001b[0m\u001b[0;34m,\u001b[0m\u001b[0;34m\u001b[0m\u001b[0;34m\u001b[0m\u001b[0m\n\u001b[1;32m    884\u001b[0m             \u001b[0mcol_deriv\u001b[0m\u001b[0;34m=\u001b[0m\u001b[0mmodel_copy\u001b[0m\u001b[0;34m.\u001b[0m\u001b[0mcol_fit_deriv\u001b[0m\u001b[0;34m,\u001b[0m \u001b[0mmaxfev\u001b[0m\u001b[0;34m=\u001b[0m\u001b[0mmaxiter\u001b[0m\u001b[0;34m,\u001b[0m \u001b[0mepsfcn\u001b[0m\u001b[0;34m=\u001b[0m\u001b[0mepsilon\u001b[0m\u001b[0;34m,\u001b[0m\u001b[0;34m\u001b[0m\u001b[0;34m\u001b[0m\u001b[0m\n\u001b[0;32m--> 885\u001b[0;31m             xtol=acc, full_output=True)\n\u001b[0m\u001b[1;32m    886\u001b[0m         \u001b[0m_fitter_to_model_params\u001b[0m\u001b[0;34m(\u001b[0m\u001b[0mmodel_copy\u001b[0m\u001b[0;34m,\u001b[0m \u001b[0mfitparams\u001b[0m\u001b[0;34m)\u001b[0m\u001b[0;34m\u001b[0m\u001b[0;34m\u001b[0m\u001b[0m\n\u001b[1;32m    887\u001b[0m         \u001b[0mself\u001b[0m\u001b[0;34m.\u001b[0m\u001b[0mfit_info\u001b[0m\u001b[0;34m.\u001b[0m\u001b[0mupdate\u001b[0m\u001b[0;34m(\u001b[0m\u001b[0mdinfo\u001b[0m\u001b[0;34m)\u001b[0m\u001b[0;34m\u001b[0m\u001b[0;34m\u001b[0m\u001b[0m\n",
      "\u001b[0;32m~/anaconda3/lib/python3.7/site-packages/scipy/optimize/minpack.py\u001b[0m in \u001b[0;36mleastsq\u001b[0;34m(func, x0, args, Dfun, full_output, col_deriv, ftol, xtol, gtol, maxfev, epsfcn, factor, diag)\u001b[0m\n\u001b[1;32m    385\u001b[0m \u001b[0;34m\u001b[0m\u001b[0m\n\u001b[1;32m    386\u001b[0m     \u001b[0;32mif\u001b[0m \u001b[0mn\u001b[0m \u001b[0;34m>\u001b[0m \u001b[0mm\u001b[0m\u001b[0;34m:\u001b[0m\u001b[0;34m\u001b[0m\u001b[0;34m\u001b[0m\u001b[0m\n\u001b[0;32m--> 387\u001b[0;31m         \u001b[0;32mraise\u001b[0m \u001b[0mTypeError\u001b[0m\u001b[0;34m(\u001b[0m\u001b[0;34m'Improper input: N=%s must not exceed M=%s'\u001b[0m \u001b[0;34m%\u001b[0m \u001b[0;34m(\u001b[0m\u001b[0mn\u001b[0m\u001b[0;34m,\u001b[0m \u001b[0mm\u001b[0m\u001b[0;34m)\u001b[0m\u001b[0;34m)\u001b[0m\u001b[0;34m\u001b[0m\u001b[0;34m\u001b[0m\u001b[0m\n\u001b[0m\u001b[1;32m    388\u001b[0m \u001b[0;34m\u001b[0m\u001b[0m\n\u001b[1;32m    389\u001b[0m     \u001b[0;32mif\u001b[0m \u001b[0mepsfcn\u001b[0m \u001b[0;32mis\u001b[0m \u001b[0;32mNone\u001b[0m\u001b[0;34m:\u001b[0m\u001b[0;34m\u001b[0m\u001b[0;34m\u001b[0m\u001b[0m\n",
      "\u001b[0;31mTypeError\u001b[0m: Improper input: N=4 must not exceed M=0"
     ]
    },
    {
     "data": {
      "image/png": "[encoded data removed]",
      "text/plain": [
       "<Figure size 432x288 with 1 Axes>"
      ]
     },
     "metadata": {
      "needs_background": "light"
     },
     "output_type": "display_data"
    }
   ],
   "source": [
    "dvs = []\n",
    "for i, line in enumerate(lines):\n",
    "    plt.subplot(2,3, i+1)\n",
    "    #nw = tw[mask]\n",
    "    #nf = tf[mask]/n_fit(tw)[mask]\n",
    "    mask2 = (tw >fit_ranges[i][0]) & (tw < fit_ranges[i][1])\n",
    "   # tw, tf, te = tw[mask2], tf[mask2], te[mask2]\n",
    "    #mask1 = mask_maker(tw, cregions, include=False)\n",
    "    \n",
    "    nw, nf, ne = make_balmer_spec(tw, tf, te, mask2)\n",
    "    plt.plot(nw, nf)\n",
    "    gg_init = models.Gaussian1D(-0.3, line,10)+ models.Gaussian1D(-0.5, line,5)+models.Const1D(1.0)\n",
    "    if i < 3:\n",
    "        gg_init += models.Gaussian1D(-0.2, line,50)\n",
    "        gg_init.mean_1.tied=tiedfunc0\n",
    "        gg_init.mean_3.tied=tiedfunc0\n",
    "    else:\n",
    "        gg_init.mean_1.tied=tiedfunc0\n",
    "    gg_fit = fitter(gg_init, nw, nf, maxiter=100000)\n",
    "    plt.plot(nw, gg_fit(nw))\n",
    "    dv = (gg_fit[0].mean*u.AA).to(u.km/u.s,  equivalencies=u.doppler_optical(line*u.AA)).value\n",
    "    fit_e = np.sqrt(np.diag(fitter.fit_info['param_cov']))\n",
    "   # print (gg_fit)\n",
    "    dvs.append(dv)\n",
    "print(dvs)\n",
    "print(np.mean(dvs))\n",
    "print(np.median(dvs))\n",
    "print(np.std(dvs))"
   ]
  },
  {
   "cell_type": "code",
   "execution_count": null,
   "metadata": {},
   "outputs": [],
   "source": []
  }
 ],
 "metadata": {
  "kernelspec": {
   "display_name": "Python 3",
   "language": "python",
   "name": "python3"
  },
  "language_info": {
   "codemirror_mode": {
    "name": "ipython",
    "version": 3
   },
   "file_extension": ".py",
   "mimetype": "text/x-python",
   "name": "python",
   "nbconvert_exporter": "python",
   "pygments_lexer": "ipython3",
   "version": "3.7.4"
  }
 },
 "nbformat": 4,
 "nbformat_minor": 4
}
